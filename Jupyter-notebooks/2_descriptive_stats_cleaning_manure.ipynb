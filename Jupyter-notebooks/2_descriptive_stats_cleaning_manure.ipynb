{
 "cells": [
  {
   "cell_type": "markdown",
   "id": "0097efca",
   "metadata": {},
   "source": [
    "# "
   ]
  },
  {
   "cell_type": "markdown",
   "id": "f2f7d8eb",
   "metadata": {},
   "source": [
    "## 1. Data loading and inspection of the manure dataset"
   ]
  },
  {
   "cell_type": "code",
   "execution_count": null,
   "id": "af8547e3",
   "metadata": {},
   "outputs": [],
   "source": [
    "# import libraries\n",
    "import pandas as pd\n",
    "import numpy as np\n",
    "from ydata_profiling import ProfileReport\n",
    "import matplotlib.pyplot as plt\n",
    "from scipy import stats\n",
    "\n",
    "# for static plots\n",
    "%matplotlib inline"
   ]
  },
  {
   "cell_type": "markdown",
   "id": "8f45f0ec",
   "metadata": {},
   "source": [
    "The first step in the process is to load and quickly inspect the main dataset"
   ]
  },
  {
   "cell_type": "code",
   "execution_count": null,
   "id": "48cabb1a",
   "metadata": {},
   "outputs": [],
   "source": [
    "# read manure dataset\n",
    "manure = pd.read_csv('../Data/manure.csv')\n",
    "# Preview\n",
    "manure.head()"
   ]
  },
  {
   "cell_type": "markdown",
   "id": "eddedfb6",
   "metadata": {},
   "source": [
    "The preview of the dataset allow us to see that we are dealing with a wide dataframe, that has data related oganic ferilizer name, quantity and unit.\n",
    "\n",
    "### Insights: \n",
    "\n",
    "- The dataset includes a field with household ids useful to identify and correctly identify each datapoint.\n",
    "- Most of the variable names have capital letters and small letters\n",
    "- The dataset includes numerical data and categorical data"
   ]
  },
  {
   "cell_type": "markdown",
   "id": "5ee57b4d",
   "metadata": {},
   "source": [
    "The second step in the inspection is to show more generalized information on the shape of the dataset (number of variables, number of datapoints), missing values, and data types for each variable."
   ]
  },
  {
   "cell_type": "code",
   "execution_count": null,
   "id": "19e0f55e",
   "metadata": {},
   "outputs": [],
   "source": [
    "manure.info()"
   ]
  },
  {
   "cell_type": "markdown",
   "id": "99abec1c",
   "metadata": {},
   "source": [
    "### Insights:\n",
    "\n",
    "- The dataset has 4 variables (columns) and 75 datapoints (rows)\n",
    "- There are 2 integer data type variables\n",
    "- There are 2 object (text, boolean, levels, categories) data type variables"
   ]
  },
  {
   "cell_type": "markdown",
   "id": "1e7a4b11",
   "metadata": {},
   "source": [
    "## 2. Descriptive statistics of the manure dataset"
   ]
  },
  {
   "cell_type": "markdown",
   "id": "d3a96910",
   "metadata": {},
   "source": [
    "The following step in the process is to produce a more detailed and thorough statistical profile of the data, that will reveal additional information on potential issues and characteristics of the data.\n",
    "We use the Ydata libaray that with a simple line of code produces a complete report of descriptive statistics including interactive exploration and automatic visualization."
   ]
  },
  {
   "cell_type": "code",
   "execution_count": null,
   "id": "02b5f187",
   "metadata": {},
   "outputs": [],
   "source": [
    "\n",
    "profile_manure = ProfileReport(manure, title=\"Manure Data Profiling Report\")\n",
    "#profile_manure.to_file(\"report.html\")  # HTML report\n",
    "profile_manure.to_notebook_iframe()"
   ]
  },
  {
   "cell_type": "markdown",
   "id": "7a1b682f",
   "metadata": {},
   "source": [
    "### Insights:\n",
    "**Numerical**\n",
    "- OrgFert_Quantity_2024: is the only relevant numerical variable, with a mean organic fertilizer usage of 49.49 units in 2024, it shows a significant standard deviation of 56.73. A maximum value of 400.\n",
    "\n",
    "**Categorical** \n",
    "\n",
    "- Organic fertilizer diversity: Only 3 distinct fertilizer types are used, with Farmyard manure being the dominant one (61% of records).\n",
    "\n",
    "- Measurement variation: Fertilizer is reported in 6 different units, which may create comparability issues across households.\n",
    "\n",
    "- Unit dominance: Wheelbarrows is the most common unit (71% of cases), suggesting it’s the standard reference for most farmers.\n",
    "\n",
    "### Possible data errors/issues:\n",
    "\n",
    "- hhid duplicated row requires cleaning\n",
    "- duplicated HHIDs with differing information on other columns\n",
    "\n",
    "### Oportunities to enhance the data\n",
    "\n",
    "- Units can be standardized\n",
    "- fertilizer quantity can be standardized\n"
   ]
  },
  {
   "cell_type": "markdown",
   "id": "63f2ec9c",
   "metadata": {},
   "source": [
    "We proceed to analize possible outliers in the dataset"
   ]
  },
  {
   "cell_type": "code",
   "execution_count": null,
   "id": "d5b1a760",
   "metadata": {},
   "outputs": [],
   "source": [
    "manure_no_hhid = manure.drop(columns='HHID')\n",
    "# plot the numeric variables\n",
    "plt.figure(figsize=(10, 6))\n",
    "manure_no_hhid.boxplot()\n",
    "plt.title('Boxplot of main data')\n",
    "plt.ylabel('Values')\n",
    "plt.xticks(rotation=45)\n",
    "plt.show()"
   ]
  },
  {
   "cell_type": "markdown",
   "id": "65241e83",
   "metadata": {},
   "source": [
    "The boxplot shows outliers in the numeric variable.\n",
    "At this point we don't have additional information to contextualize the values in the dataset."
   ]
  },
  {
   "cell_type": "code",
   "execution_count": null,
   "id": "4a62252b",
   "metadata": {},
   "outputs": [],
   "source": [
    "#zscore\n",
    "outlier_df = pd.concat([manure[(np.abs(stats.zscore(manure[col].dropna())) > 2).reindex(manure.index, fill_value=False)].assign(outlier_column=col) for col in manure.select_dtypes(include=[np.number])])\n",
    "outlier_df[outlier_df['outlier_column']== 'OrgFert_Qantity_2024']"
   ]
  },
  {
   "cell_type": "markdown",
   "id": "1cc16ad7",
   "metadata": {},
   "source": [
    "Using the Z-score statistic, we don't find outliers. We will contextualize the values better once we merge the main and manure dataset."
   ]
  },
  {
   "cell_type": "markdown",
   "id": "59c53d32",
   "metadata": {},
   "source": [
    "## 3. Data cleaning and transformation"
   ]
  },
  {
   "cell_type": "markdown",
   "id": "5a933b1d",
   "metadata": {},
   "source": [
    "The first step in the data cleaning and transformation is to create a copy of the original dataset, to ensure the changes can be easlily reverted in case of issues. After that and follwing the insights from previous steps we will start by standarizing the string of column names"
   ]
  },
  {
   "cell_type": "code",
   "execution_count": null,
   "id": "ea6c02aa",
   "metadata": {},
   "outputs": [],
   "source": [
    "manure.columns = manure.columns.str.lower()\n",
    "print(manure.columns.tolist())"
   ]
  },
  {
   "cell_type": "markdown",
   "id": "fa5af4a0",
   "metadata": {},
   "source": [
    "The next step is to remove the duplicated identical rows"
   ]
  },
  {
   "cell_type": "code",
   "execution_count": null,
   "id": "632a9a30",
   "metadata": {},
   "outputs": [],
   "source": [
    "# Remove duplicated rows\n",
    "manure_std = manure.copy()\n",
    "\n",
    "# Check for duplicates before removal\n",
    "duplicates_before = manure_std.duplicated().sum()\n",
    "print(f\"Number of duplicate rows found in original dataset: {duplicates_before}\")\n",
    "\n",
    "if duplicates_before > 0:\n",
    "    print(\"\\nSample of duplicate rows:\")\n",
    "    print(manure_std[manure_std.duplicated()].head())\n",
    "else:\n",
    "    print(\"No duplicate rows found in the original dataset.\")\n",
    "\n",
    "# Remove duplicates\n",
    "manure_std = manure_std.drop_duplicates()\n",
    "\n",
    "# Check for duplicates after removal\n",
    "duplicates_after = manure_std.duplicated().sum()\n",
    "print(f\"\\nNumber of duplicate rows after removal: {duplicates_after}\")\n",
    "\n",
    "# Print final shape comparison\n",
    "print(f\"\\nDataset shape change:\")\n",
    "print(f\"Rows removed: {len(manure) - len(manure_std)}\")"
   ]
  },
  {
   "cell_type": "markdown",
   "id": "a496678a",
   "metadata": {},
   "source": [
    "We continue by standardizing the organic fertilizer units, create a conversion factor map for units, and finally calculate the standarized  fertilization quantities in Kilograms"
   ]
  },
  {
   "cell_type": "code",
   "execution_count": null,
   "id": "4e0b924f",
   "metadata": {},
   "outputs": [],
   "source": [
    "# see unit values in the dataframe\n",
    "print(\"Unique values in orgfert_unit_2024 column:\")\n",
    "print(manure_std['orgfert_unit_2024'].unique())\n",
    "\n",
    "# Create a standardized version of the unit column for matching\n",
    "manure_std['orgfert_unit_2024_std'] = manure_std['orgfert_unit_2024'].astype(str).str.lower().str.strip()\n",
    "\n",
    "# preview cleaned values\n",
    "print(\"\\nCleaned unique values:\")\n",
    "print(manure_std['orgfert_unit_2024'].unique())\n",
    "\n",
    "# Conversion factors based on the cleaned units\n",
    "conversion_factors_manure = {\n",
    "    'kg': 1,\n",
    "    '25 kg bag': 25,\n",
    "    'bucket/debe': 20, # weigth estimated for a standard 20L bucket\n",
    "    'ton': 1000,\n",
    "    '90 kg bag': 90,\n",
    "    'wheelbarows':40.  # weigth estimated for a standard 65L wheelbarow\n",
    "}\n",
    "\n",
    "# Apply conversion using the cleaned column\n",
    "manure_std['orgfert_quantity_2024_kg'] = manure_std['orgfert_quantity_2024'] * manure_std['orgfert_unit_2024_std'].map(conversion_factors_manure)\n",
    "\n",
    "# Check for any missing values (units not in our conversion map)\n",
    "missing_mask = manure_std['orgfert_quantity_2024_kg'].isna()\n",
    "if missing_mask.any():\n",
    "    print(f\"\\nWarning: {missing_mask.sum()} records had units not found in conversion map:\")\n",
    "    print(manure_std[missing_mask]['orgfert_unit_2024_std'].unique())\n",
    "    \n",
    "    # Fill missing values with original quantity (or you can choose another strategy)\n",
    "    manure_std.loc[missing_mask, 'orgfert_quantity_2024_kg'] = manure_std.loc[missing_mask, 'orgfert_quantity_2024']\n",
    "\n",
    "# Check the results\n",
    "print(\"\\nConversion results:\")\n",
    "manure_std.tail(10)"
   ]
  },
  {
   "cell_type": "markdown",
   "id": "3b934ff8",
   "metadata": {},
   "source": [
    "The next step is to analize and address the duplicated household IDs with diferring information of fertilizer quantities and types"
   ]
  },
  {
   "cell_type": "code",
   "execution_count": null,
   "id": "e977d020",
   "metadata": {},
   "outputs": [],
   "source": [
    "duplicates_manure = manure[manure.duplicated(subset=['hhid'], keep=False)]\n",
    "print(duplicates_manure)"
   ]
  },
  {
   "cell_type": "markdown",
   "id": "426c3ac0",
   "metadata": {},
   "source": [
    "After checking the duplicated rows, we infer that this is not likely an error, but that it could represent multiple reports from the same households. I.e. 2 rounds of fertilization.\n",
    "\n",
    "As at this point it is imposible to confirm with the data collection or field teams, we make the assuption that data is representing 2 rounds of applications and then proceed to agreegate the quantities by adding them. \n",
    "\n",
    "To keep record of the original values, we create new columns where:\n",
    "\n",
    "- orgfert_qty_2024_kg_total: is the sum of fertilizer quantities, if household is not duplicated the sum will be equal to orgfert_qty_2024_kg\n",
    "\n",
    "- orgfert_names_2024: a string of the fertilizer(s) reported\n",
    "\n",
    "- orgfert_qty_2024_kg: a list of fertilizer(s) quantities applied\n"
   ]
  },
  {
   "cell_type": "code",
   "execution_count": null,
   "id": "79b35b67",
   "metadata": {},
   "outputs": [],
   "source": [
    "manure_std_cons = manure_std.groupby(\"hhid\").agg(\n",
    "    orgfert_qty_2024_kg_total=(\"orgfert_quantity_2024_kg\", \"sum\"),\n",
    "    orgfert_names_2024=(\"orgfert_name_2024\", lambda x: \", \".join(map(str, x))),\n",
    "    orgfert_qty_2024_kg=(\"orgfert_quantity_2024_kg\", lambda x: \", \".join(map(str, x)))\n",
    ").reset_index()\n",
    "manure_std_cons.head()"
   ]
  },
  {
   "cell_type": "markdown",
   "id": "1ce9ebda",
   "metadata": {},
   "source": [
    "To finalize, we run the descritive statics report to check results"
   ]
  },
  {
   "cell_type": "code",
   "execution_count": null,
   "id": "d504185d",
   "metadata": {},
   "outputs": [],
   "source": [
    "manure_stats_cols = ['orgfert_qty_2024_kg_total','orgfert_names_2024']\n",
    "profile_manure_cons = ProfileReport(manure_std_cons[manure_stats_cols], title=\"Manure Standarized Data Profiling Report\")\n",
    "#profile_manure.to_file(\"report.html\")  # HTML report\n",
    "profile_manure_cons.to_notebook_iframe()"
   ]
  },
  {
   "cell_type": "markdown",
   "id": "0edda4be",
   "metadata": {},
   "source": [
    "The last step in the analisys is to save the cleaned manure data set as csv file"
   ]
  },
  {
   "cell_type": "code",
   "execution_count": null,
   "id": "8ae32c3b",
   "metadata": {},
   "outputs": [],
   "source": [
    "manure_std_cons.to_csv('../data/cleaned/manure_std_cons.csv', index=False)"
   ]
  }
 ],
 "metadata": {
  "kernelspec": {
   "display_name": "damage",
   "language": "python",
   "name": "python3"
  },
  "language_info": {
   "codemirror_mode": {
    "name": "ipython",
    "version": 3
   },
   "file_extension": ".py",
   "mimetype": "text/x-python",
   "name": "python",
   "nbconvert_exporter": "python",
   "pygments_lexer": "ipython3",
   "version": "3.10.18"
  }
 },
 "nbformat": 4,
 "nbformat_minor": 5
}
