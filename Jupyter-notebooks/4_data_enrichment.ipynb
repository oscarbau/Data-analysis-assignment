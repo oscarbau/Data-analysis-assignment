{
 "cells": [
  {
   "cell_type": "markdown",
   "id": "0b323699",
   "metadata": {},
   "source": [
    "# Data enrinchment with additional satellite data"
   ]
  },
  {
   "cell_type": "markdown",
   "id": "da16dd28",
   "metadata": {},
   "source": [
    "\n",
    "This notebook provides a spatial overview and enrichment of the farm dataset, combining survey data with environmental and accessibility information. The main objectives are:\n",
    "\n",
    "Visualizing farm locations: display farm points on an interactive map to explore their geographic distribution.\n",
    "\n",
    "Extracting satellite and spatial data: retrieve NDVI, precipitation, and travel time to cities for each farm and for the entire study area using a proprietary API (Google Earth Engine).\n",
    "\n",
    "Merging data: integrate the extracted spatial information with the merged farm dataset to create a comprehensive dataset for analysis.\n",
    "\n",
    "Rasterizing survey data: convert the farm survey data into raster format across the study area, enabling spatially continuous inputs for modeling.\n",
    "\n",
    "Disclaimers:\n",
    "\n",
    "Accessing data from Google Earth Engine (GEE) requires a valid account and API credentials. Users must have these credentials to replicate the extraction process.\n",
    "\n",
    "Although the rasters for the survey area were successfully prepared, I opted for an alternative approach in the subsequent modeling step. This workflow is presented here for informational purposes and to demonstrate the rasterization process.\n",
    "\n",
    "This notebook provides a detailed overview of spatial data preparation and integration, serving as a reference for combining survey and environmental data in geospatial analyses."
   ]
  },
  {
   "cell_type": "markdown",
   "id": "2a7ff519",
   "metadata": {},
   "source": [
    "Load libraries and data"
   ]
  },
  {
   "cell_type": "code",
   "execution_count": 31,
   "id": "dece3d44",
   "metadata": {},
   "outputs": [
    {
     "data": {
      "text/html": [
       "\n",
       "            <style>\n",
       "                .geemap-dark {\n",
       "                    --jp-widgets-color: white;\n",
       "                    --jp-widgets-label-color: white;\n",
       "                    --jp-ui-font-color1: white;\n",
       "                    --jp-layout-color2: #454545;\n",
       "                    background-color: #383838;\n",
       "                }\n",
       "\n",
       "                .geemap-dark .jupyter-button {\n",
       "                    --jp-layout-color3: #383838;\n",
       "                }\n",
       "\n",
       "                .geemap-colab {\n",
       "                    background-color: var(--colab-primary-surface-color, white);\n",
       "                }\n",
       "\n",
       "                .geemap-colab .jupyter-button {\n",
       "                    --jp-layout-color3: var(--colab-primary-surface-color, white);\n",
       "                }\n",
       "            </style>\n",
       "            "
      ],
      "text/plain": [
       "<IPython.core.display.HTML object>"
      ]
     },
     "metadata": {},
     "output_type": "display_data"
    }
   ],
   "source": [
    "import geopandas as gpd\n",
    "import pandas as pd\n",
    "from shapely.geometry import Point\n",
    "import ee\n",
    "ee.Authenticate()\n",
    "ee.Initialize(project='ee-obautista')\n",
    "import geemap\n",
    "import rasterio\n",
    "from rasterio import features\n",
    "import numpy as np\n",
    "import matplotlib.pyplot as plt\n",
    "import plotly.express as px"
   ]
  },
  {
   "cell_type": "markdown",
   "id": "434f001d",
   "metadata": {},
   "source": [
    "FIrst we load the merged file exportef in the previous notebook."
   ]
  },
  {
   "cell_type": "code",
   "execution_count": 32,
   "id": "8231b7c9",
   "metadata": {},
   "outputs": [
    {
     "data": {
      "text/html": [
       "\n",
       "            <style>\n",
       "                .geemap-dark {\n",
       "                    --jp-widgets-color: white;\n",
       "                    --jp-widgets-label-color: white;\n",
       "                    --jp-ui-font-color1: white;\n",
       "                    --jp-layout-color2: #454545;\n",
       "                    background-color: #383838;\n",
       "                }\n",
       "\n",
       "                .geemap-dark .jupyter-button {\n",
       "                    --jp-layout-color3: #383838;\n",
       "                }\n",
       "\n",
       "                .geemap-colab {\n",
       "                    background-color: var(--colab-primary-surface-color, white);\n",
       "                }\n",
       "\n",
       "                .geemap-colab .jupyter-button {\n",
       "                    --jp-layout-color3: var(--colab-primary-surface-color, white);\n",
       "                }\n",
       "            </style>\n",
       "            "
      ],
      "text/plain": [
       "<IPython.core.display.HTML object>"
      ]
     },
     "metadata": {},
     "output_type": "display_data"
    }
   ],
   "source": [
    "merged = pd.read_csv('../Data/cleaned/merged_std.csv')\n",
    "\n",
    "# Create GeoDataFrame from your coordinates\n",
    "geometry = [Point(lon, lat) for lon, lat in zip(merged.longitude, merged.latitude)]\n",
    "gdf = gpd.GeoDataFrame(merged, geometry=geometry, crs=\"EPSG:4326\")"
   ]
  },
  {
   "cell_type": "code",
   "execution_count": 33,
   "id": "d27569be",
   "metadata": {},
   "outputs": [
    {
     "data": {
      "text/html": [
       "\n",
       "            <style>\n",
       "                .geemap-dark {\n",
       "                    --jp-widgets-color: white;\n",
       "                    --jp-widgets-label-color: white;\n",
       "                    --jp-ui-font-color1: white;\n",
       "                    --jp-layout-color2: #454545;\n",
       "                    background-color: #383838;\n",
       "                }\n",
       "\n",
       "                .geemap-dark .jupyter-button {\n",
       "                    --jp-layout-color3: #383838;\n",
       "                }\n",
       "\n",
       "                .geemap-colab {\n",
       "                    background-color: var(--colab-primary-surface-color, white);\n",
       "                }\n",
       "\n",
       "                .geemap-colab .jupyter-button {\n",
       "                    --jp-layout-color3: var(--colab-primary-surface-color, white);\n",
       "                }\n",
       "            </style>\n",
       "            "
      ],
      "text/plain": [
       "<IPython.core.display.HTML object>"
      ]
     },
     "metadata": {},
     "output_type": "display_data"
    },
    {
     "name": "stdout",
     "output_type": "stream",
     "text": [
      "<class 'geopandas.geodataframe.GeoDataFrame'>\n",
      "RangeIndex: 100 entries, 0 to 99\n",
      "Data columns (total 12 columns):\n",
      " #   Column                         Non-Null Count  Dtype   \n",
      "---  ------                         --------------  -----   \n",
      " 0   hhid                           100 non-null    int64   \n",
      " 1   land_total_acres               100 non-null    float64 \n",
      " 2   land_cultivated_acres          100 non-null    float64 \n",
      " 3   maize_harvest_qty_kg           100 non-null    float64 \n",
      " 4   maize_yield_ton_acre           100 non-null    float64 \n",
      " 5   orgfert_qty_2024_kg_total_std  100 non-null    float64 \n",
      " 6   livestock_owned_bin            100 non-null    int64   \n",
      " 7   hh_head_education_class        100 non-null    int64   \n",
      " 8   climate_info_received_num      100 non-null    int64   \n",
      " 9   latitude                       100 non-null    float64 \n",
      " 10  longitude                      100 non-null    float64 \n",
      " 11  geometry                       100 non-null    geometry\n",
      "dtypes: float64(7), geometry(1), int64(4)\n",
      "memory usage: 9.5 KB\n"
     ]
    }
   ],
   "source": [
    "gdf.info()\n"
   ]
  },
  {
   "cell_type": "markdown",
   "id": "758f3009",
   "metadata": {},
   "source": [
    "Export the farm location data as GeoJSON, including only the hhid field and the coordinates in the exported file."
   ]
  },
  {
   "cell_type": "code",
   "execution_count": 34,
   "id": "ef2f7458",
   "metadata": {},
   "outputs": [
    {
     "data": {
      "text/html": [
       "\n",
       "            <style>\n",
       "                .geemap-dark {\n",
       "                    --jp-widgets-color: white;\n",
       "                    --jp-widgets-label-color: white;\n",
       "                    --jp-ui-font-color1: white;\n",
       "                    --jp-layout-color2: #454545;\n",
       "                    background-color: #383838;\n",
       "                }\n",
       "\n",
       "                .geemap-dark .jupyter-button {\n",
       "                    --jp-layout-color3: #383838;\n",
       "                }\n",
       "\n",
       "                .geemap-colab {\n",
       "                    background-color: var(--colab-primary-surface-color, white);\n",
       "                }\n",
       "\n",
       "                .geemap-colab .jupyter-button {\n",
       "                    --jp-layout-color3: var(--colab-primary-surface-color, white);\n",
       "                }\n",
       "            </style>\n",
       "            "
      ],
      "text/plain": [
       "<IPython.core.display.HTML object>"
      ]
     },
     "metadata": {},
     "output_type": "display_data"
    }
   ],
   "source": [
    "gdf_ids = gdf[['hhid','latitude','longitude','geometry']]\n",
    "gdf_ids.to_file('../Data/spatial/farms.geojson')"
   ]
  },
  {
   "cell_type": "markdown",
   "id": "b1afea3d",
   "metadata": {},
   "source": [
    "Upload the geojson file with farm locations and ids to GEE"
   ]
  },
  {
   "cell_type": "code",
   "execution_count": 35,
   "id": "1e7abe06",
   "metadata": {},
   "outputs": [
    {
     "data": {
      "text/html": [
       "\n",
       "            <style>\n",
       "                .geemap-dark {\n",
       "                    --jp-widgets-color: white;\n",
       "                    --jp-widgets-label-color: white;\n",
       "                    --jp-ui-font-color1: white;\n",
       "                    --jp-layout-color2: #454545;\n",
       "                    background-color: #383838;\n",
       "                }\n",
       "\n",
       "                .geemap-dark .jupyter-button {\n",
       "                    --jp-layout-color3: #383838;\n",
       "                }\n",
       "\n",
       "                .geemap-colab {\n",
       "                    background-color: var(--colab-primary-surface-color, white);\n",
       "                }\n",
       "\n",
       "                .geemap-colab .jupyter-button {\n",
       "                    --jp-layout-color3: var(--colab-primary-surface-color, white);\n",
       "                }\n",
       "            </style>\n",
       "            "
      ],
      "text/plain": [
       "<IPython.core.display.HTML object>"
      ]
     },
     "metadata": {},
     "output_type": "display_data"
    }
   ],
   "source": [
    "in_file = \"../Data/spatial/farms.geojson\"\n",
    "in_fc = geemap.geojson_to_ee(in_file)\n"
   ]
  },
  {
   "cell_type": "markdown",
   "id": "fc9f74b5",
   "metadata": {},
   "source": [
    "Next, show a map of the location of the farms in the dataset"
   ]
  },
  {
   "cell_type": "code",
   "execution_count": 36,
   "id": "9609eb4f",
   "metadata": {},
   "outputs": [
    {
     "data": {
      "text/html": [
       "\n",
       "            <style>\n",
       "                .geemap-dark {\n",
       "                    --jp-widgets-color: white;\n",
       "                    --jp-widgets-label-color: white;\n",
       "                    --jp-ui-font-color1: white;\n",
       "                    --jp-layout-color2: #454545;\n",
       "                    background-color: #383838;\n",
       "                }\n",
       "\n",
       "                .geemap-dark .jupyter-button {\n",
       "                    --jp-layout-color3: #383838;\n",
       "                }\n",
       "\n",
       "                .geemap-colab {\n",
       "                    background-color: var(--colab-primary-surface-color, white);\n",
       "                }\n",
       "\n",
       "                .geemap-colab .jupyter-button {\n",
       "                    --jp-layout-color3: var(--colab-primary-surface-color, white);\n",
       "                }\n",
       "            </style>\n",
       "            "
      ],
      "text/plain": [
       "<IPython.core.display.HTML object>"
      ]
     },
     "metadata": {},
     "output_type": "display_data"
    },
    {
     "name": "stderr",
     "output_type": "stream",
     "text": [
      "/var/folders/qx/9__482dx7kxchkqq764hl5z00000gq/T/ipykernel_3928/1222969754.py:8: UserWarning:\n",
      "\n",
      "Geometry is in a geographic CRS. Results from 'centroid' are likely incorrect. Use 'GeoSeries.to_crs()' to re-project geometries to a projected CRS before this operation.\n",
      "\n",
      "\n"
     ]
    },
    {
     "data": {
      "application/vnd.plotly.v1+json": {
       "config": {
        "plotlyServerURL": "https://plot.ly"
       },
       "data": [
        {
         "hovertemplate": "land_cultivated_acres=%{marker.size}<br>latitude=%{lat}<br>longitude=%{lon}<extra></extra>",
         "lat": {
          "bdata": "LzpHhwF3w78WjDgHScuwv1JMplbUytC/nr/gBdf9tz/LoUD9OZWyP1CBKYlAQ8I/Nhn/hbju1r9UKgQZ0duvPz4HtzFNI9G/zpqAqPn/yb/cWE4XaS/DPzW62dhSa8+/y/b7pxbvwL8xOgKzoMLVvx6jyp2KtbQ/9zfs5+KplL9RE1K+bRS5vyI+rSsxksM/BluMhC2ryb8ghE2LZAmwP4JOEI68oLA/4c40Sl8UxL8wMNJboWfJv38FLmS1xpg/S3lwIdb1yL9iIKKtVwzGvwVU2hBTSsq/o7RGI/Dexb9NJ58/6VvAvwWtJby70KA/r4VgIszXuj8M9h/M/0G7P7zQKbbsise/ZmxkLtsUo7+VwiasOTK3PyhbyTPUjdS/3JQgk/T/tr9kbhIRa+Kqv3HrMTvSc8u/NCq3h5kKtb8v/DZ9o0GBv4WlVJ5NItC/aIdL0Fc3wL86dVJQa0nHv5XpMl3Rq6Q/Sof7hpF3k79LEdk6Sru2v8lwKLsaksa/V2JF3WzLvb9wZQ8IAtGlP3eOdS//esE/+TBkPQEJ0r9Yk0SC64Kqv9daeXi45Xe/b0QvV8rox78JzvWKYkqtv5ge9DwdZ6Q/9pvaMEKsub8br2lz1oakPzJefp1Xmci/+7pV1aCvyb+4pvePsGifP2aFAc/mBtG/ZUxrGq5qwL+kkrbIqPijv1DcSt8GndK/9EQ4r69Kkb9lOgyXabyrv7l7wAlzJay/cePrchfPzb9B5VNYjcu4v7aKPTUQa8e/z1tbyaUpxb+iLTiaW9XAP+a+LTxVnNS/YKqU/FonsL9unPaP45nMv+vzfsfjLtC/tjQXtYRH0L+QsRoYZ3asPwgVRd1By7e/uN6A4Du7xr97F6jyYUnTv/uokyeh2LG/kUIueJ5msD9wY3t5dqPRv+7JbUL0gKI/fKfomXX+rD8iMjAbMti3P4SlgtY4pYw/JUbHvCsOeb8nTRu/BG/Iv8A3NAJ9JNC/qWs+xalKzL+Zyzu+JY/Lv9V+elJ3fKC/lCiuPN5qsb9M8I3uDpO0P7oLOVvlbsq/LBaR8cCx078=",
          "dtype": "f8"
         },
         "legendgroup": "",
         "lon": {
          "bdata": "EHaKVYN6QUCp128eNU1BQDy3ddyVbUFAXJznPu9JQUC+PDKQxldBQGvEH4e5aUFAZO2tUL1aQUBpZ389sk9BQLe3W5KDWUFA55FYtRhkQUDhzTvKmFdBQNvu7a8BZkFAxleWQ+ZYQUA1juQ0vFFBQNEMPb0tckFA5/O84d9YQUBBvr61F3pBQBtivOZVaUFAZJWxJdR3QUBJMsQUWVpBQBj3FyjGTkFA0Hytz0VOQUADwvtowFFBQDyAC9PzX0FAg6Sy1SNPQUBMbQyudz9BQByL2O3UXEFA9LBpCLtaQUBl+T5FI21BQPSJ+ixod0FAUrJi2UhaQUC+svsjxk1BQOPprk8tRkFAwQ4xmB5EQUB872/QXmRBQJiYmV9uZEFAinhGtk5BQUDAjXuQcX5BQO6hdTuYf0FAaFityD93QUAkFudelm9BQKaWUjzTa0FAloEc91piQUD9Z1HIY2tBQAjUMLZvekFAapGC4TttQUDqZS1oTnFBQC2tyOCPYkFAgxZUTIxxQUBIWwmbiUlBQLiVXpuNaUFAucYlli1pQUA0Kx2kDkxBQDBRtcRnbEFAQO0BBD1cQUDzgU85R3VBQB7da7VFc0FAdeI4EXlQQUA4QnGNcFJBQKwn6x72a0FAowlvantLQUAR6fFaDWxBQBBeeZgPc0FAB4VaNmd1QUAj5d1HpE1BQCT6rYSLaEFAMSPdS/FEQUCDl0twi1FBQF+Jkz06S0FAC1Ey9xhnQUBb9CWGKkVBQER/04HNVUFAUWGVoHlBQUC9UIbLpmBBQHQOffvjZEFAB95/Gi17QUDKOASW9W5BQIfnfOMxUEFAIthdRWt6QUDpm1Ubc3FBQN7b28oegEFACeI8nMBPQUA3r8Et5W5BQDSZtwtJT0FA6LVE9IxwQUCyEhS7DWpBQCQ5aMjbXkFAeDAYEmZQQUDJawzX9kpBQFOWvmO6fUFAzeFBUMFtQUD76JJ5fVBBQIRYaK0JfUFA3SstAudJQUAr41svuH5BQN3uxDBQdkFAo71uz/tKQUCRj+V2EnBBQHDIqxhTY0FAEJNPE6ZeQUA=",
          "dtype": "f8"
         },
         "marker": {
          "color": "#636efa",
          "size": {
           "bdata": "AAAAAAAA4D8AAAAAAADwPwAAAAAAAPQ/AAAAAAAAAEAAAAAAAADQPwAAAAAAAPg/AAAAAAAA4D8AAAAAAADgPwAAAAAAACBAAAAAAAAAFkBFN4LIkqHwPwAAAAAAABRAAAAAAAAA8D8AAAAAAAAjQFr0ArbDLNY/mpmZmZmZ2T8AAAAAAADwPwAAAAAAAOA/AAAAAAAACEAAAAAAAAAIQAAAAAAAAOA/AAAAAAAA4D9a9AK2wyzGPwAAAAAAAPg/AAAAAAAA+D9EN4LIkqHgPwAAAAAAAOA/AAAAAAAA4D8AAAAAAADwPwAAAAAAANA/AAAAAAAAAEAAAAAAAAAUQAAAAAAAAABAAAAAAAAA8D8AAAAAAADwPwAAAAAAAAhAAAAAAAAACEAAAAAAAAAAQEQ3gsiSoQBAAAAAAAAA0D8AAAAAAADwPwAAAAAAAABAAAAAAAAAFEAAAAAAAAD4PwAAAAAAAOA/AAAAAAAAAEAAAAAAAAAAQAAAAAAAAPA/AAAAAAAA+D8AAAAAAADQPwAAAAAAAPg/AAAAAAAA8D8AAAAAAADwPwAAAAAAAOg/AAAAAAAA4D8AAAAAAADQPwAAAAAAANA/AAAAAAAA0D8AAAAAAAAMQAAAAAAAAPA/AAAAAAAAAEAAAAAAAADgPwAAAAAAAABAAAAAAAAA8D9a9AK2wyzGPwAAAAAAAPw/AAAAAAAACEAAAAAAAADgPwAAAAAAAAhAAAAAAAAA+D8AAAAAAAAAQAAAAAAAAOA/AAAAAAAAAEAAAAAAAADwPwAAAAAAAOA/AAAAAAAA4D8AAAAAAADwPwAAAAAAANA/AAAAAAAA4D8AAAAAAAAAQAAAAAAAAOA/AAAAAAAA0D8AAAAAAADQPwAAAAAAAPA/AAAAAAAA4D8AAAAAAADgPwAAAAAAABRAAAAAAAAA8D8AAAAAAADwPwAAAAAAAPA/AAAAAAAA8D8AAAAAAADwPwAAAAAAAOg/AAAAAAAA6D8AAAAAAADoPwAAAAAAAPA/AAAAAAAA8D8AAAAAAADQPwAAAAAAANA/AAAAAAAAAEA=",
           "dtype": "f8"
          },
          "sizemode": "area",
          "sizeref": 0.02375
         },
         "mode": "markers",
         "name": "",
         "showlegend": false,
         "subplot": "map",
         "type": "scattermap"
        }
       ],
       "layout": {
        "legend": {
         "itemsizing": "constant",
         "tracegroupgap": 0
        },
        "map": {
         "center": {
          "lat": -0.09558163460999998,
          "lon": 34.759576179599996
         },
         "domain": {
          "x": [
           0,
           1
          ],
          "y": [
           0,
           1
          ]
         },
         "zoom": 9
        },
        "mapbox": {
         "center": {
          "lat": -0.09558163460999998,
          "lon": 34.759576179599996
         },
         "style": "carto-positron",
         "zoom": 9
        },
        "margin": {
         "b": 0,
         "l": 0,
         "r": 0,
         "t": 0
        },
        "template": {
         "data": {
          "bar": [
           {
            "error_x": {
             "color": "#2a3f5f"
            },
            "error_y": {
             "color": "#2a3f5f"
            },
            "marker": {
             "line": {
              "color": "#E5ECF6",
              "width": 0.5
             },
             "pattern": {
              "fillmode": "overlay",
              "size": 10,
              "solidity": 0.2
             }
            },
            "type": "bar"
           }
          ],
          "barpolar": [
           {
            "marker": {
             "line": {
              "color": "#E5ECF6",
              "width": 0.5
             },
             "pattern": {
              "fillmode": "overlay",
              "size": 10,
              "solidity": 0.2
             }
            },
            "type": "barpolar"
           }
          ],
          "carpet": [
           {
            "aaxis": {
             "endlinecolor": "#2a3f5f",
             "gridcolor": "white",
             "linecolor": "white",
             "minorgridcolor": "white",
             "startlinecolor": "#2a3f5f"
            },
            "baxis": {
             "endlinecolor": "#2a3f5f",
             "gridcolor": "white",
             "linecolor": "white",
             "minorgridcolor": "white",
             "startlinecolor": "#2a3f5f"
            },
            "type": "carpet"
           }
          ],
          "choropleth": [
           {
            "colorbar": {
             "outlinewidth": 0,
             "ticks": ""
            },
            "type": "choropleth"
           }
          ],
          "contour": [
           {
            "colorbar": {
             "outlinewidth": 0,
             "ticks": ""
            },
            "colorscale": [
             [
              0,
              "#0d0887"
             ],
             [
              0.1111111111111111,
              "#46039f"
             ],
             [
              0.2222222222222222,
              "#7201a8"
             ],
             [
              0.3333333333333333,
              "#9c179e"
             ],
             [
              0.4444444444444444,
              "#bd3786"
             ],
             [
              0.5555555555555556,
              "#d8576b"
             ],
             [
              0.6666666666666666,
              "#ed7953"
             ],
             [
              0.7777777777777778,
              "#fb9f3a"
             ],
             [
              0.8888888888888888,
              "#fdca26"
             ],
             [
              1,
              "#f0f921"
             ]
            ],
            "type": "contour"
           }
          ],
          "contourcarpet": [
           {
            "colorbar": {
             "outlinewidth": 0,
             "ticks": ""
            },
            "type": "contourcarpet"
           }
          ],
          "heatmap": [
           {
            "colorbar": {
             "outlinewidth": 0,
             "ticks": ""
            },
            "colorscale": [
             [
              0,
              "#0d0887"
             ],
             [
              0.1111111111111111,
              "#46039f"
             ],
             [
              0.2222222222222222,
              "#7201a8"
             ],
             [
              0.3333333333333333,
              "#9c179e"
             ],
             [
              0.4444444444444444,
              "#bd3786"
             ],
             [
              0.5555555555555556,
              "#d8576b"
             ],
             [
              0.6666666666666666,
              "#ed7953"
             ],
             [
              0.7777777777777778,
              "#fb9f3a"
             ],
             [
              0.8888888888888888,
              "#fdca26"
             ],
             [
              1,
              "#f0f921"
             ]
            ],
            "type": "heatmap"
           }
          ],
          "histogram": [
           {
            "marker": {
             "pattern": {
              "fillmode": "overlay",
              "size": 10,
              "solidity": 0.2
             }
            },
            "type": "histogram"
           }
          ],
          "histogram2d": [
           {
            "colorbar": {
             "outlinewidth": 0,
             "ticks": ""
            },
            "colorscale": [
             [
              0,
              "#0d0887"
             ],
             [
              0.1111111111111111,
              "#46039f"
             ],
             [
              0.2222222222222222,
              "#7201a8"
             ],
             [
              0.3333333333333333,
              "#9c179e"
             ],
             [
              0.4444444444444444,
              "#bd3786"
             ],
             [
              0.5555555555555556,
              "#d8576b"
             ],
             [
              0.6666666666666666,
              "#ed7953"
             ],
             [
              0.7777777777777778,
              "#fb9f3a"
             ],
             [
              0.8888888888888888,
              "#fdca26"
             ],
             [
              1,
              "#f0f921"
             ]
            ],
            "type": "histogram2d"
           }
          ],
          "histogram2dcontour": [
           {
            "colorbar": {
             "outlinewidth": 0,
             "ticks": ""
            },
            "colorscale": [
             [
              0,
              "#0d0887"
             ],
             [
              0.1111111111111111,
              "#46039f"
             ],
             [
              0.2222222222222222,
              "#7201a8"
             ],
             [
              0.3333333333333333,
              "#9c179e"
             ],
             [
              0.4444444444444444,
              "#bd3786"
             ],
             [
              0.5555555555555556,
              "#d8576b"
             ],
             [
              0.6666666666666666,
              "#ed7953"
             ],
             [
              0.7777777777777778,
              "#fb9f3a"
             ],
             [
              0.8888888888888888,
              "#fdca26"
             ],
             [
              1,
              "#f0f921"
             ]
            ],
            "type": "histogram2dcontour"
           }
          ],
          "mesh3d": [
           {
            "colorbar": {
             "outlinewidth": 0,
             "ticks": ""
            },
            "type": "mesh3d"
           }
          ],
          "parcoords": [
           {
            "line": {
             "colorbar": {
              "outlinewidth": 0,
              "ticks": ""
             }
            },
            "type": "parcoords"
           }
          ],
          "pie": [
           {
            "automargin": true,
            "type": "pie"
           }
          ],
          "scatter": [
           {
            "fillpattern": {
             "fillmode": "overlay",
             "size": 10,
             "solidity": 0.2
            },
            "type": "scatter"
           }
          ],
          "scatter3d": [
           {
            "line": {
             "colorbar": {
              "outlinewidth": 0,
              "ticks": ""
             }
            },
            "marker": {
             "colorbar": {
              "outlinewidth": 0,
              "ticks": ""
             }
            },
            "type": "scatter3d"
           }
          ],
          "scattercarpet": [
           {
            "marker": {
             "colorbar": {
              "outlinewidth": 0,
              "ticks": ""
             }
            },
            "type": "scattercarpet"
           }
          ],
          "scattergeo": [
           {
            "marker": {
             "colorbar": {
              "outlinewidth": 0,
              "ticks": ""
             }
            },
            "type": "scattergeo"
           }
          ],
          "scattergl": [
           {
            "marker": {
             "colorbar": {
              "outlinewidth": 0,
              "ticks": ""
             }
            },
            "type": "scattergl"
           }
          ],
          "scattermap": [
           {
            "marker": {
             "colorbar": {
              "outlinewidth": 0,
              "ticks": ""
             }
            },
            "type": "scattermap"
           }
          ],
          "scattermapbox": [
           {
            "marker": {
             "colorbar": {
              "outlinewidth": 0,
              "ticks": ""
             }
            },
            "type": "scattermapbox"
           }
          ],
          "scatterpolar": [
           {
            "marker": {
             "colorbar": {
              "outlinewidth": 0,
              "ticks": ""
             }
            },
            "type": "scatterpolar"
           }
          ],
          "scatterpolargl": [
           {
            "marker": {
             "colorbar": {
              "outlinewidth": 0,
              "ticks": ""
             }
            },
            "type": "scatterpolargl"
           }
          ],
          "scatterternary": [
           {
            "marker": {
             "colorbar": {
              "outlinewidth": 0,
              "ticks": ""
             }
            },
            "type": "scatterternary"
           }
          ],
          "surface": [
           {
            "colorbar": {
             "outlinewidth": 0,
             "ticks": ""
            },
            "colorscale": [
             [
              0,
              "#0d0887"
             ],
             [
              0.1111111111111111,
              "#46039f"
             ],
             [
              0.2222222222222222,
              "#7201a8"
             ],
             [
              0.3333333333333333,
              "#9c179e"
             ],
             [
              0.4444444444444444,
              "#bd3786"
             ],
             [
              0.5555555555555556,
              "#d8576b"
             ],
             [
              0.6666666666666666,
              "#ed7953"
             ],
             [
              0.7777777777777778,
              "#fb9f3a"
             ],
             [
              0.8888888888888888,
              "#fdca26"
             ],
             [
              1,
              "#f0f921"
             ]
            ],
            "type": "surface"
           }
          ],
          "table": [
           {
            "cells": {
             "fill": {
              "color": "#EBF0F8"
             },
             "line": {
              "color": "white"
             }
            },
            "header": {
             "fill": {
              "color": "#C8D4E3"
             },
             "line": {
              "color": "white"
             }
            },
            "type": "table"
           }
          ]
         },
         "layout": {
          "annotationdefaults": {
           "arrowcolor": "#2a3f5f",
           "arrowhead": 0,
           "arrowwidth": 1
          },
          "autotypenumbers": "strict",
          "coloraxis": {
           "colorbar": {
            "outlinewidth": 0,
            "ticks": ""
           }
          },
          "colorscale": {
           "diverging": [
            [
             0,
             "#8e0152"
            ],
            [
             0.1,
             "#c51b7d"
            ],
            [
             0.2,
             "#de77ae"
            ],
            [
             0.3,
             "#f1b6da"
            ],
            [
             0.4,
             "#fde0ef"
            ],
            [
             0.5,
             "#f7f7f7"
            ],
            [
             0.6,
             "#e6f5d0"
            ],
            [
             0.7,
             "#b8e186"
            ],
            [
             0.8,
             "#7fbc41"
            ],
            [
             0.9,
             "#4d9221"
            ],
            [
             1,
             "#276419"
            ]
           ],
           "sequential": [
            [
             0,
             "#0d0887"
            ],
            [
             0.1111111111111111,
             "#46039f"
            ],
            [
             0.2222222222222222,
             "#7201a8"
            ],
            [
             0.3333333333333333,
             "#9c179e"
            ],
            [
             0.4444444444444444,
             "#bd3786"
            ],
            [
             0.5555555555555556,
             "#d8576b"
            ],
            [
             0.6666666666666666,
             "#ed7953"
            ],
            [
             0.7777777777777778,
             "#fb9f3a"
            ],
            [
             0.8888888888888888,
             "#fdca26"
            ],
            [
             1,
             "#f0f921"
            ]
           ],
           "sequentialminus": [
            [
             0,
             "#0d0887"
            ],
            [
             0.1111111111111111,
             "#46039f"
            ],
            [
             0.2222222222222222,
             "#7201a8"
            ],
            [
             0.3333333333333333,
             "#9c179e"
            ],
            [
             0.4444444444444444,
             "#bd3786"
            ],
            [
             0.5555555555555556,
             "#d8576b"
            ],
            [
             0.6666666666666666,
             "#ed7953"
            ],
            [
             0.7777777777777778,
             "#fb9f3a"
            ],
            [
             0.8888888888888888,
             "#fdca26"
            ],
            [
             1,
             "#f0f921"
            ]
           ]
          },
          "colorway": [
           "#636efa",
           "#EF553B",
           "#00cc96",
           "#ab63fa",
           "#FFA15A",
           "#19d3f3",
           "#FF6692",
           "#B6E880",
           "#FF97FF",
           "#FECB52"
          ],
          "font": {
           "color": "#2a3f5f"
          },
          "geo": {
           "bgcolor": "white",
           "lakecolor": "white",
           "landcolor": "#E5ECF6",
           "showlakes": true,
           "showland": true,
           "subunitcolor": "white"
          },
          "hoverlabel": {
           "align": "left"
          },
          "hovermode": "closest",
          "mapbox": {
           "style": "light"
          },
          "paper_bgcolor": "white",
          "plot_bgcolor": "#E5ECF6",
          "polar": {
           "angularaxis": {
            "gridcolor": "white",
            "linecolor": "white",
            "ticks": ""
           },
           "bgcolor": "#E5ECF6",
           "radialaxis": {
            "gridcolor": "white",
            "linecolor": "white",
            "ticks": ""
           }
          },
          "scene": {
           "xaxis": {
            "backgroundcolor": "#E5ECF6",
            "gridcolor": "white",
            "gridwidth": 2,
            "linecolor": "white",
            "showbackground": true,
            "ticks": "",
            "zerolinecolor": "white"
           },
           "yaxis": {
            "backgroundcolor": "#E5ECF6",
            "gridcolor": "white",
            "gridwidth": 2,
            "linecolor": "white",
            "showbackground": true,
            "ticks": "",
            "zerolinecolor": "white"
           },
           "zaxis": {
            "backgroundcolor": "#E5ECF6",
            "gridcolor": "white",
            "gridwidth": 2,
            "linecolor": "white",
            "showbackground": true,
            "ticks": "",
            "zerolinecolor": "white"
           }
          },
          "shapedefaults": {
           "line": {
            "color": "#2a3f5f"
           }
          },
          "ternary": {
           "aaxis": {
            "gridcolor": "white",
            "linecolor": "white",
            "ticks": ""
           },
           "baxis": {
            "gridcolor": "white",
            "linecolor": "white",
            "ticks": ""
           },
           "bgcolor": "#E5ECF6",
           "caxis": {
            "gridcolor": "white",
            "linecolor": "white",
            "ticks": ""
           }
          },
          "title": {
           "x": 0.05
          },
          "xaxis": {
           "automargin": true,
           "gridcolor": "white",
           "linecolor": "white",
           "ticks": "",
           "title": {
            "standoff": 15
           },
           "zerolinecolor": "white",
           "zerolinewidth": 2
          },
          "yaxis": {
           "automargin": true,
           "gridcolor": "white",
           "linecolor": "white",
           "ticks": "",
           "title": {
            "standoff": 15
           },
           "zerolinecolor": "white",
           "zerolinewidth": 2
          }
         }
        },
        "title": {
         "text": "Farms"
        }
       }
      }
     },
     "metadata": {},
     "output_type": "display_data"
    }
   ],
   "source": [
    "# Visual exploration of the farms\n",
    "fig = px.scatter_map(\n",
    "    gdf,\n",
    "    lat=\"latitude\",\n",
    "    lon=\"longitude\",\n",
    "    size= 'land_cultivated_acres',\n",
    "    zoom=9,\n",
    "    center={\"lat\": gdf.geometry.centroid.y.mean(), \"lon\": gdf.geometry.centroid.x.mean()},\n",
    "    title='Farms'\n",
    ")\n",
    "\n",
    "fig.update_layout(margin={\"r\":0,\"t\":0,\"l\":0,\"b\":0})\n",
    "fig.update_layout(mapbox_style=\"carto-positron\")\n",
    "fig.show()"
   ]
  },
  {
   "cell_type": "markdown",
   "id": "e8748b34",
   "metadata": {},
   "source": [
    "The next step is to stack the satellite data (NDVI, precipitation) and grid data (travel time to cities) in GEE. \n",
    "\n",
    "The code below uses a single composite image for each variable as an example, although time series with multi-temporal data are also possible."
   ]
  },
  {
   "cell_type": "code",
   "execution_count": 37,
   "id": "9f4fad24",
   "metadata": {},
   "outputs": [
    {
     "data": {
      "text/html": [
       "\n",
       "            <style>\n",
       "                .geemap-dark {\n",
       "                    --jp-widgets-color: white;\n",
       "                    --jp-widgets-label-color: white;\n",
       "                    --jp-ui-font-color1: white;\n",
       "                    --jp-layout-color2: #454545;\n",
       "                    background-color: #383838;\n",
       "                }\n",
       "\n",
       "                .geemap-dark .jupyter-button {\n",
       "                    --jp-layout-color3: #383838;\n",
       "                }\n",
       "\n",
       "                .geemap-colab {\n",
       "                    background-color: var(--colab-primary-surface-color, white);\n",
       "                }\n",
       "\n",
       "                .geemap-colab .jupyter-button {\n",
       "                    --jp-layout-color3: var(--colab-primary-surface-color, white);\n",
       "                }\n",
       "            </style>\n",
       "            "
      ],
      "text/plain": [
       "<IPython.core.display.HTML object>"
      ]
     },
     "metadata": {},
     "output_type": "display_data"
    }
   ],
   "source": [
    "# Define analysis area\n",
    "roi = ee.Geometry.Rectangle([34.41, -0.45, 35.09, 0.24])\n",
    "\n",
    "# Load the pre-processed images (run previous scripts first)\n",
    "precip_annual = ee.ImageCollection('UCSB-CHG/CHIRPS/PENTAD') \\\n",
    "    .filterDate('2024-01-01', '2024-12-31') \\\n",
    "    .select('precipitation').mean().rename('mean_rain')\n",
    "\n",
    "greenest_pixel = ee.ImageCollection('MODIS/061/MOD13Q1') \\\n",
    "    .filterDate('2024-01-01', '2024-12-31') \\\n",
    "    .select('NDVI') \\\n",
    "    .qualityMosaic('NDVI').multiply(0.0001).rename('ndvi')\n",
    "\n",
    "travel_time = ee.Image(\"Oxford/MAP/accessibility_to_cities_2015_v1_0\").rename('travel_time')\n",
    "\n",
    "\n",
    "# Create image stack\n",
    "image_stack = ee.Image.cat([precip_annual, greenest_pixel, travel_time])"
   ]
  },
  {
   "cell_type": "markdown",
   "id": "9bcab044",
   "metadata": {},
   "source": [
    "Then, extract and download the data from the image stack for each farm point, and save the result in the local drive"
   ]
  },
  {
   "cell_type": "code",
   "execution_count": 38,
   "id": "0d37f667",
   "metadata": {},
   "outputs": [
    {
     "data": {
      "text/html": [
       "\n",
       "            <style>\n",
       "                .geemap-dark {\n",
       "                    --jp-widgets-color: white;\n",
       "                    --jp-widgets-label-color: white;\n",
       "                    --jp-ui-font-color1: white;\n",
       "                    --jp-layout-color2: #454545;\n",
       "                    background-color: #383838;\n",
       "                }\n",
       "\n",
       "                .geemap-dark .jupyter-button {\n",
       "                    --jp-layout-color3: #383838;\n",
       "                }\n",
       "\n",
       "                .geemap-colab {\n",
       "                    background-color: var(--colab-primary-surface-color, white);\n",
       "                }\n",
       "\n",
       "                .geemap-colab .jupyter-button {\n",
       "                    --jp-layout-color3: var(--colab-primary-surface-color, white);\n",
       "                }\n",
       "            </style>\n",
       "            "
      ],
      "text/plain": [
       "<IPython.core.display.HTML object>"
      ]
     },
     "metadata": {},
     "output_type": "display_data"
    },
    {
     "name": "stdout",
     "output_type": "stream",
     "text": [
      "Generating URL ...\n",
      "Downloading data from https://earthengine.googleapis.com/v1/projects/ee-obautista/tables/a6825f726253b4e57e416a2ab6d53287-c01fe1b5010146500afd2f9786b92241:getFeatures\n",
      "Please wait ...\n",
      "Data downloaded to /Volumes/T7/Github/Data-analysis-assignment/Data/spatial/shp/farms_data.shp\n"
     ]
    },
    {
     "data": {
      "text/html": [
       "<div>\n",
       "<style scoped>\n",
       "    .dataframe tbody tr th:only-of-type {\n",
       "        vertical-align: middle;\n",
       "    }\n",
       "\n",
       "    .dataframe tbody tr th {\n",
       "        vertical-align: top;\n",
       "    }\n",
       "\n",
       "    .dataframe thead th {\n",
       "        text-align: right;\n",
       "    }\n",
       "</style>\n",
       "<table border=\"1\" class=\"dataframe\">\n",
       "  <thead>\n",
       "    <tr style=\"text-align: right;\">\n",
       "      <th></th>\n",
       "      <th>mean_rain</th>\n",
       "      <th>latitude</th>\n",
       "      <th>travel_tim</th>\n",
       "      <th>ndvi</th>\n",
       "      <th>hhid</th>\n",
       "      <th>longitude</th>\n",
       "      <th>geometry</th>\n",
       "    </tr>\n",
       "  </thead>\n",
       "  <tbody>\n",
       "    <tr>\n",
       "      <th>0</th>\n",
       "      <td>24.733860</td>\n",
       "      <td>-0.152069</td>\n",
       "      <td>55</td>\n",
       "      <td>0.7666</td>\n",
       "      <td>409</td>\n",
       "      <td>34.957133</td>\n",
       "      <td>POINT (34.95713 -0.15207)</td>\n",
       "    </tr>\n",
       "    <tr>\n",
       "      <th>1</th>\n",
       "      <td>24.733860</td>\n",
       "      <td>-0.065602</td>\n",
       "      <td>55</td>\n",
       "      <td>0.7666</td>\n",
       "      <td>398</td>\n",
       "      <td>34.603184</td>\n",
       "      <td>POINT (34.60318 -0.0656)</td>\n",
       "    </tr>\n",
       "    <tr>\n",
       "      <th>2</th>\n",
       "      <td>24.733860</td>\n",
       "      <td>-0.262380</td>\n",
       "      <td>55</td>\n",
       "      <td>0.7666</td>\n",
       "      <td>397</td>\n",
       "      <td>34.856136</td>\n",
       "      <td>POINT (34.85614 -0.26238)</td>\n",
       "    </tr>\n",
       "    <tr>\n",
       "      <th>3</th>\n",
       "      <td>25.628838</td>\n",
       "      <td>0.093717</td>\n",
       "      <td>33</td>\n",
       "      <td>0.7486</td>\n",
       "      <td>395</td>\n",
       "      <td>34.577614</td>\n",
       "      <td>POINT (34.57761 0.09372)</td>\n",
       "    </tr>\n",
       "    <tr>\n",
       "      <th>4</th>\n",
       "      <td>25.628838</td>\n",
       "      <td>0.072590</td>\n",
       "      <td>33</td>\n",
       "      <td>0.7486</td>\n",
       "      <td>389</td>\n",
       "      <td>34.685747</td>\n",
       "      <td>POINT (34.68575 0.07259)</td>\n",
       "    </tr>\n",
       "    <tr>\n",
       "      <th>...</th>\n",
       "      <td>...</td>\n",
       "      <td>...</td>\n",
       "      <td>...</td>\n",
       "      <td>...</td>\n",
       "      <td>...</td>\n",
       "      <td>...</td>\n",
       "      <td>...</td>\n",
       "    </tr>\n",
       "    <tr>\n",
       "      <th>95</th>\n",
       "      <td>24.733860</td>\n",
       "      <td>-0.032200</td>\n",
       "      <td>55</td>\n",
       "      <td>0.7666</td>\n",
       "      <td>15</td>\n",
       "      <td>34.924322</td>\n",
       "      <td>POINT (34.92432 -0.0322)</td>\n",
       "    </tr>\n",
       "    <tr>\n",
       "      <th>96</th>\n",
       "      <td>24.733860</td>\n",
       "      <td>-0.068037</td>\n",
       "      <td>55</td>\n",
       "      <td>0.7666</td>\n",
       "      <td>14</td>\n",
       "      <td>34.585810</td>\n",
       "      <td>POINT (34.58581 -0.06804)</td>\n",
       "    </tr>\n",
       "    <tr>\n",
       "      <th>97</th>\n",
       "      <td>25.628838</td>\n",
       "      <td>0.080369</td>\n",
       "      <td>33</td>\n",
       "      <td>0.7486</td>\n",
       "      <td>8</td>\n",
       "      <td>34.875563</td>\n",
       "      <td>POINT (34.87556 0.08037)</td>\n",
       "    </tr>\n",
       "    <tr>\n",
       "      <th>98</th>\n",
       "      <td>24.733860</td>\n",
       "      <td>-0.206509</td>\n",
       "      <td>55</td>\n",
       "      <td>0.7666</td>\n",
       "      <td>6</td>\n",
       "      <td>34.775973</td>\n",
       "      <td>POINT (34.77597 -0.20651)</td>\n",
       "    </tr>\n",
       "    <tr>\n",
       "      <th>99</th>\n",
       "      <td>24.733860</td>\n",
       "      <td>-0.307724</td>\n",
       "      <td>55</td>\n",
       "      <td>0.7666</td>\n",
       "      <td>5</td>\n",
       "      <td>34.739443</td>\n",
       "      <td>POINT (34.73944 -0.30772)</td>\n",
       "    </tr>\n",
       "  </tbody>\n",
       "</table>\n",
       "<p>100 rows × 7 columns</p>\n",
       "</div>"
      ],
      "text/plain": [
       "    mean_rain  latitude  travel_tim    ndvi  hhid  longitude  \\\n",
       "0   24.733860 -0.152069          55  0.7666   409  34.957133   \n",
       "1   24.733860 -0.065602          55  0.7666   398  34.603184   \n",
       "2   24.733860 -0.262380          55  0.7666   397  34.856136   \n",
       "3   25.628838  0.093717          33  0.7486   395  34.577614   \n",
       "4   25.628838  0.072590          33  0.7486   389  34.685747   \n",
       "..        ...       ...         ...     ...   ...        ...   \n",
       "95  24.733860 -0.032200          55  0.7666    15  34.924322   \n",
       "96  24.733860 -0.068037          55  0.7666    14  34.585810   \n",
       "97  25.628838  0.080369          33  0.7486     8  34.875563   \n",
       "98  24.733860 -0.206509          55  0.7666     6  34.775973   \n",
       "99  24.733860 -0.307724          55  0.7666     5  34.739443   \n",
       "\n",
       "                     geometry  \n",
       "0   POINT (34.95713 -0.15207)  \n",
       "1    POINT (34.60318 -0.0656)  \n",
       "2   POINT (34.85614 -0.26238)  \n",
       "3    POINT (34.57761 0.09372)  \n",
       "4    POINT (34.68575 0.07259)  \n",
       "..                        ...  \n",
       "95   POINT (34.92432 -0.0322)  \n",
       "96  POINT (34.58581 -0.06804)  \n",
       "97   POINT (34.87556 0.08037)  \n",
       "98  POINT (34.77597 -0.20651)  \n",
       "99  POINT (34.73944 -0.30772)  \n",
       "\n",
       "[100 rows x 7 columns]"
      ]
     },
     "execution_count": 38,
     "metadata": {},
     "output_type": "execute_result"
    }
   ],
   "source": [
    "farm_enriched_path = \"../Data/spatial/shp/farms_data.shp\"\n",
    "geemap.extract_values_to_points(in_fc, image_stack , farm_enriched_path)\n",
    "\n",
    "farms_gee = gpd.read_file(farm_enriched_path)\n",
    "farms_gee"
   ]
  },
  {
   "cell_type": "code",
   "execution_count": 39,
   "id": "88182b3d",
   "metadata": {},
   "outputs": [
    {
     "data": {
      "text/html": [
       "\n",
       "            <style>\n",
       "                .geemap-dark {\n",
       "                    --jp-widgets-color: white;\n",
       "                    --jp-widgets-label-color: white;\n",
       "                    --jp-ui-font-color1: white;\n",
       "                    --jp-layout-color2: #454545;\n",
       "                    background-color: #383838;\n",
       "                }\n",
       "\n",
       "                .geemap-dark .jupyter-button {\n",
       "                    --jp-layout-color3: #383838;\n",
       "                }\n",
       "\n",
       "                .geemap-colab {\n",
       "                    background-color: var(--colab-primary-surface-color, white);\n",
       "                }\n",
       "\n",
       "                .geemap-colab .jupyter-button {\n",
       "                    --jp-layout-color3: var(--colab-primary-surface-color, white);\n",
       "                }\n",
       "            </style>\n",
       "            "
      ],
      "text/plain": [
       "<IPython.core.display.HTML object>"
      ]
     },
     "metadata": {},
     "output_type": "display_data"
    },
    {
     "name": "stdout",
     "output_type": "stream",
     "text": [
      "<class 'geopandas.geodataframe.GeoDataFrame'>\n",
      "RangeIndex: 100 entries, 0 to 99\n",
      "Data columns (total 7 columns):\n",
      " #   Column      Non-Null Count  Dtype   \n",
      "---  ------      --------------  -----   \n",
      " 0   mean_rain   100 non-null    float64 \n",
      " 1   latitude    100 non-null    float64 \n",
      " 2   travel_tim  100 non-null    int32   \n",
      " 3   ndvi        100 non-null    float64 \n",
      " 4   hhid        100 non-null    int32   \n",
      " 5   longitude   100 non-null    float64 \n",
      " 6   geometry    100 non-null    geometry\n",
      "dtypes: float64(4), geometry(1), int32(2)\n",
      "memory usage: 4.8 KB\n"
     ]
    }
   ],
   "source": [
    "farms_gee.info()"
   ]
  },
  {
   "cell_type": "markdown",
   "id": "eb1d70ce",
   "metadata": {},
   "source": [
    "Merge the enriched dataset with the original variables from the survey"
   ]
  },
  {
   "cell_type": "code",
   "execution_count": 40,
   "id": "ca317dfc",
   "metadata": {},
   "outputs": [
    {
     "data": {
      "text/html": [
       "\n",
       "            <style>\n",
       "                .geemap-dark {\n",
       "                    --jp-widgets-color: white;\n",
       "                    --jp-widgets-label-color: white;\n",
       "                    --jp-ui-font-color1: white;\n",
       "                    --jp-layout-color2: #454545;\n",
       "                    background-color: #383838;\n",
       "                }\n",
       "\n",
       "                .geemap-dark .jupyter-button {\n",
       "                    --jp-layout-color3: #383838;\n",
       "                }\n",
       "\n",
       "                .geemap-colab {\n",
       "                    background-color: var(--colab-primary-surface-color, white);\n",
       "                }\n",
       "\n",
       "                .geemap-colab .jupyter-button {\n",
       "                    --jp-layout-color3: var(--colab-primary-surface-color, white);\n",
       "                }\n",
       "            </style>\n",
       "            "
      ],
      "text/plain": [
       "<IPython.core.display.HTML object>"
      ]
     },
     "metadata": {},
     "output_type": "display_data"
    },
    {
     "data": {
      "text/html": [
       "<div>\n",
       "<style scoped>\n",
       "    .dataframe tbody tr th:only-of-type {\n",
       "        vertical-align: middle;\n",
       "    }\n",
       "\n",
       "    .dataframe tbody tr th {\n",
       "        vertical-align: top;\n",
       "    }\n",
       "\n",
       "    .dataframe thead th {\n",
       "        text-align: right;\n",
       "    }\n",
       "</style>\n",
       "<table border=\"1\" class=\"dataframe\">\n",
       "  <thead>\n",
       "    <tr style=\"text-align: right;\">\n",
       "      <th></th>\n",
       "      <th>hhid</th>\n",
       "      <th>land_total_acres</th>\n",
       "      <th>land_cultivated_acres</th>\n",
       "      <th>maize_harvest_qty_kg</th>\n",
       "      <th>maize_yield_ton_acre</th>\n",
       "      <th>orgfert_qty_2024_kg_total_std</th>\n",
       "      <th>livestock_owned_bin</th>\n",
       "      <th>hh_head_education_class</th>\n",
       "      <th>climate_info_received_num</th>\n",
       "      <th>latitude</th>\n",
       "      <th>longitude</th>\n",
       "      <th>geometry</th>\n",
       "      <th>mean_rain</th>\n",
       "      <th>travel_tim</th>\n",
       "      <th>ndvi</th>\n",
       "    </tr>\n",
       "  </thead>\n",
       "  <tbody>\n",
       "    <tr>\n",
       "      <th>0</th>\n",
       "      <td>409</td>\n",
       "      <td>2.50</td>\n",
       "      <td>0.50</td>\n",
       "      <td>135.0</td>\n",
       "      <td>0.27</td>\n",
       "      <td>1250.0</td>\n",
       "      <td>1</td>\n",
       "      <td>0</td>\n",
       "      <td>1</td>\n",
       "      <td>-0.152069</td>\n",
       "      <td>34.957133</td>\n",
       "      <td>POINT (34.95713 -0.15207)</td>\n",
       "      <td>24.733860</td>\n",
       "      <td>55</td>\n",
       "      <td>0.7666</td>\n",
       "    </tr>\n",
       "    <tr>\n",
       "      <th>1</th>\n",
       "      <td>398</td>\n",
       "      <td>2.00</td>\n",
       "      <td>1.00</td>\n",
       "      <td>1350.0</td>\n",
       "      <td>1.35</td>\n",
       "      <td>600.0</td>\n",
       "      <td>1</td>\n",
       "      <td>1</td>\n",
       "      <td>1</td>\n",
       "      <td>-0.065602</td>\n",
       "      <td>34.603184</td>\n",
       "      <td>POINT (34.60318 -0.0656)</td>\n",
       "      <td>24.733860</td>\n",
       "      <td>55</td>\n",
       "      <td>0.7666</td>\n",
       "    </tr>\n",
       "    <tr>\n",
       "      <th>2</th>\n",
       "      <td>397</td>\n",
       "      <td>1.50</td>\n",
       "      <td>1.25</td>\n",
       "      <td>180.0</td>\n",
       "      <td>0.14</td>\n",
       "      <td>600.0</td>\n",
       "      <td>1</td>\n",
       "      <td>3</td>\n",
       "      <td>1</td>\n",
       "      <td>-0.262380</td>\n",
       "      <td>34.856136</td>\n",
       "      <td>POINT (34.85614 -0.26238)</td>\n",
       "      <td>24.733860</td>\n",
       "      <td>55</td>\n",
       "      <td>0.7666</td>\n",
       "    </tr>\n",
       "    <tr>\n",
       "      <th>3</th>\n",
       "      <td>395</td>\n",
       "      <td>3.00</td>\n",
       "      <td>2.00</td>\n",
       "      <td>2520.0</td>\n",
       "      <td>1.26</td>\n",
       "      <td>800.0</td>\n",
       "      <td>1</td>\n",
       "      <td>2</td>\n",
       "      <td>1</td>\n",
       "      <td>0.093717</td>\n",
       "      <td>34.577614</td>\n",
       "      <td>POINT (34.57761 0.09372)</td>\n",
       "      <td>25.628838</td>\n",
       "      <td>33</td>\n",
       "      <td>0.7486</td>\n",
       "    </tr>\n",
       "    <tr>\n",
       "      <th>4</th>\n",
       "      <td>389</td>\n",
       "      <td>0.25</td>\n",
       "      <td>0.25</td>\n",
       "      <td>450.0</td>\n",
       "      <td>1.80</td>\n",
       "      <td>1250.0</td>\n",
       "      <td>1</td>\n",
       "      <td>2</td>\n",
       "      <td>1</td>\n",
       "      <td>0.072590</td>\n",
       "      <td>34.685747</td>\n",
       "      <td>POINT (34.68575 0.07259)</td>\n",
       "      <td>25.628838</td>\n",
       "      <td>33</td>\n",
       "      <td>0.7486</td>\n",
       "    </tr>\n",
       "    <tr>\n",
       "      <th>...</th>\n",
       "      <td>...</td>\n",
       "      <td>...</td>\n",
       "      <td>...</td>\n",
       "      <td>...</td>\n",
       "      <td>...</td>\n",
       "      <td>...</td>\n",
       "      <td>...</td>\n",
       "      <td>...</td>\n",
       "      <td>...</td>\n",
       "      <td>...</td>\n",
       "      <td>...</td>\n",
       "      <td>...</td>\n",
       "      <td>...</td>\n",
       "      <td>...</td>\n",
       "      <td>...</td>\n",
       "    </tr>\n",
       "    <tr>\n",
       "      <th>95</th>\n",
       "      <td>15</td>\n",
       "      <td>1.50</td>\n",
       "      <td>1.00</td>\n",
       "      <td>90.0</td>\n",
       "      <td>0.09</td>\n",
       "      <td>2400.0</td>\n",
       "      <td>1</td>\n",
       "      <td>1</td>\n",
       "      <td>0</td>\n",
       "      <td>-0.032200</td>\n",
       "      <td>34.924322</td>\n",
       "      <td>POINT (34.92432 -0.0322)</td>\n",
       "      <td>24.733860</td>\n",
       "      <td>55</td>\n",
       "      <td>0.7666</td>\n",
       "    </tr>\n",
       "    <tr>\n",
       "      <th>96</th>\n",
       "      <td>14</td>\n",
       "      <td>1.00</td>\n",
       "      <td>1.00</td>\n",
       "      <td>20.0</td>\n",
       "      <td>0.02</td>\n",
       "      <td>2200.0</td>\n",
       "      <td>1</td>\n",
       "      <td>3</td>\n",
       "      <td>0</td>\n",
       "      <td>-0.068037</td>\n",
       "      <td>34.585810</td>\n",
       "      <td>POINT (34.58581 -0.06804)</td>\n",
       "      <td>24.733860</td>\n",
       "      <td>55</td>\n",
       "      <td>0.7666</td>\n",
       "    </tr>\n",
       "    <tr>\n",
       "      <th>97</th>\n",
       "      <td>8</td>\n",
       "      <td>0.75</td>\n",
       "      <td>0.25</td>\n",
       "      <td>180.0</td>\n",
       "      <td>0.72</td>\n",
       "      <td>790.0</td>\n",
       "      <td>1</td>\n",
       "      <td>1</td>\n",
       "      <td>1</td>\n",
       "      <td>0.080369</td>\n",
       "      <td>34.875563</td>\n",
       "      <td>POINT (34.87556 0.08037)</td>\n",
       "      <td>25.628838</td>\n",
       "      <td>33</td>\n",
       "      <td>0.7486</td>\n",
       "    </tr>\n",
       "    <tr>\n",
       "      <th>98</th>\n",
       "      <td>6</td>\n",
       "      <td>0.25</td>\n",
       "      <td>0.25</td>\n",
       "      <td>180.0</td>\n",
       "      <td>0.72</td>\n",
       "      <td>800.0</td>\n",
       "      <td>1</td>\n",
       "      <td>0</td>\n",
       "      <td>1</td>\n",
       "      <td>-0.206509</td>\n",
       "      <td>34.775973</td>\n",
       "      <td>POINT (34.77597 -0.20651)</td>\n",
       "      <td>24.733860</td>\n",
       "      <td>55</td>\n",
       "      <td>0.7666</td>\n",
       "    </tr>\n",
       "    <tr>\n",
       "      <th>99</th>\n",
       "      <td>5</td>\n",
       "      <td>2.00</td>\n",
       "      <td>2.00</td>\n",
       "      <td>990.0</td>\n",
       "      <td>0.50</td>\n",
       "      <td>1250.0</td>\n",
       "      <td>1</td>\n",
       "      <td>1</td>\n",
       "      <td>1</td>\n",
       "      <td>-0.307724</td>\n",
       "      <td>34.739443</td>\n",
       "      <td>POINT (34.73944 -0.30772)</td>\n",
       "      <td>24.733860</td>\n",
       "      <td>55</td>\n",
       "      <td>0.7666</td>\n",
       "    </tr>\n",
       "  </tbody>\n",
       "</table>\n",
       "<p>100 rows × 15 columns</p>\n",
       "</div>"
      ],
      "text/plain": [
       "    hhid  land_total_acres  land_cultivated_acres  maize_harvest_qty_kg  \\\n",
       "0    409              2.50                   0.50                 135.0   \n",
       "1    398              2.00                   1.00                1350.0   \n",
       "2    397              1.50                   1.25                 180.0   \n",
       "3    395              3.00                   2.00                2520.0   \n",
       "4    389              0.25                   0.25                 450.0   \n",
       "..   ...               ...                    ...                   ...   \n",
       "95    15              1.50                   1.00                  90.0   \n",
       "96    14              1.00                   1.00                  20.0   \n",
       "97     8              0.75                   0.25                 180.0   \n",
       "98     6              0.25                   0.25                 180.0   \n",
       "99     5              2.00                   2.00                 990.0   \n",
       "\n",
       "    maize_yield_ton_acre  orgfert_qty_2024_kg_total_std  livestock_owned_bin  \\\n",
       "0                   0.27                         1250.0                    1   \n",
       "1                   1.35                          600.0                    1   \n",
       "2                   0.14                          600.0                    1   \n",
       "3                   1.26                          800.0                    1   \n",
       "4                   1.80                         1250.0                    1   \n",
       "..                   ...                            ...                  ...   \n",
       "95                  0.09                         2400.0                    1   \n",
       "96                  0.02                         2200.0                    1   \n",
       "97                  0.72                          790.0                    1   \n",
       "98                  0.72                          800.0                    1   \n",
       "99                  0.50                         1250.0                    1   \n",
       "\n",
       "    hh_head_education_class  climate_info_received_num  latitude  longitude  \\\n",
       "0                         0                          1 -0.152069  34.957133   \n",
       "1                         1                          1 -0.065602  34.603184   \n",
       "2                         3                          1 -0.262380  34.856136   \n",
       "3                         2                          1  0.093717  34.577614   \n",
       "4                         2                          1  0.072590  34.685747   \n",
       "..                      ...                        ...       ...        ...   \n",
       "95                        1                          0 -0.032200  34.924322   \n",
       "96                        3                          0 -0.068037  34.585810   \n",
       "97                        1                          1  0.080369  34.875563   \n",
       "98                        0                          1 -0.206509  34.775973   \n",
       "99                        1                          1 -0.307724  34.739443   \n",
       "\n",
       "                     geometry  mean_rain  travel_tim    ndvi  \n",
       "0   POINT (34.95713 -0.15207)  24.733860          55  0.7666  \n",
       "1    POINT (34.60318 -0.0656)  24.733860          55  0.7666  \n",
       "2   POINT (34.85614 -0.26238)  24.733860          55  0.7666  \n",
       "3    POINT (34.57761 0.09372)  25.628838          33  0.7486  \n",
       "4    POINT (34.68575 0.07259)  25.628838          33  0.7486  \n",
       "..                        ...        ...         ...     ...  \n",
       "95   POINT (34.92432 -0.0322)  24.733860          55  0.7666  \n",
       "96  POINT (34.58581 -0.06804)  24.733860          55  0.7666  \n",
       "97   POINT (34.87556 0.08037)  25.628838          33  0.7486  \n",
       "98  POINT (34.77597 -0.20651)  24.733860          55  0.7666  \n",
       "99  POINT (34.73944 -0.30772)  24.733860          55  0.7666  \n",
       "\n",
       "[100 rows x 15 columns]"
      ]
     },
     "execution_count": 40,
     "metadata": {},
     "output_type": "execute_result"
    }
   ],
   "source": [
    "#drop redundant variables in the entiched farms dataset (latitude, longitude, geometry)\n",
    "\n",
    "farms_gee= farms_gee.drop(columns=['latitude','longitude', 'geometry'])\n",
    "\n",
    "\n",
    "# Merge the pandas DataFrame into the GeoDataFrame\n",
    "merged_gdf = gdf.merge(\n",
    "    farms_gee,         # Right: pandas DataFrame\n",
    "    on='hhid',          # Merge key\n",
    "    how='inner'         # Keep only matching records\n",
    ")\n",
    "merged_gdf"
   ]
  },
  {
   "cell_type": "markdown",
   "id": "834da0a5",
   "metadata": {},
   "source": [
    "This dataset will be exported as it is the input for the spatial prediction model"
   ]
  },
  {
   "cell_type": "code",
   "execution_count": 41,
   "id": "4b4f5a31",
   "metadata": {},
   "outputs": [
    {
     "data": {
      "text/html": [
       "\n",
       "            <style>\n",
       "                .geemap-dark {\n",
       "                    --jp-widgets-color: white;\n",
       "                    --jp-widgets-label-color: white;\n",
       "                    --jp-ui-font-color1: white;\n",
       "                    --jp-layout-color2: #454545;\n",
       "                    background-color: #383838;\n",
       "                }\n",
       "\n",
       "                .geemap-dark .jupyter-button {\n",
       "                    --jp-layout-color3: #383838;\n",
       "                }\n",
       "\n",
       "                .geemap-colab {\n",
       "                    background-color: var(--colab-primary-surface-color, white);\n",
       "                }\n",
       "\n",
       "                .geemap-colab .jupyter-button {\n",
       "                    --jp-layout-color3: var(--colab-primary-surface-color, white);\n",
       "                }\n",
       "            </style>\n",
       "            "
      ],
      "text/plain": [
       "<IPython.core.display.HTML object>"
      ]
     },
     "metadata": {},
     "output_type": "display_data"
    }
   ],
   "source": [
    "merged_gdf.to_file('../Data/spatial/farms.geojson')"
   ]
  },
  {
   "cell_type": "markdown",
   "id": "56fe50af",
   "metadata": {},
   "source": [
    "## 2. Preparation of additional dataset for spatial modelling after the probabilities are computed"
   ]
  },
  {
   "cell_type": "markdown",
   "id": "7a0251e9",
   "metadata": {},
   "source": [
    "Extract the values from ancialliary variables into in 1kmx1km mesh point dataset for the entire area of study"
   ]
  },
  {
   "cell_type": "code",
   "execution_count": 42,
   "id": "3cee3b99",
   "metadata": {},
   "outputs": [
    {
     "data": {
      "text/html": [
       "\n",
       "            <style>\n",
       "                .geemap-dark {\n",
       "                    --jp-widgets-color: white;\n",
       "                    --jp-widgets-label-color: white;\n",
       "                    --jp-ui-font-color1: white;\n",
       "                    --jp-layout-color2: #454545;\n",
       "                    background-color: #383838;\n",
       "                }\n",
       "\n",
       "                .geemap-dark .jupyter-button {\n",
       "                    --jp-layout-color3: #383838;\n",
       "                }\n",
       "\n",
       "                .geemap-colab {\n",
       "                    background-color: var(--colab-primary-surface-color, white);\n",
       "                }\n",
       "\n",
       "                .geemap-colab .jupyter-button {\n",
       "                    --jp-layout-color3: var(--colab-primary-surface-color, white);\n",
       "                }\n",
       "            </style>\n",
       "            "
      ],
      "text/plain": [
       "<IPython.core.display.HTML object>"
      ]
     },
     "metadata": {},
     "output_type": "display_data"
    }
   ],
   "source": [
    "# Sample the image at regular points\n",
    "sample_points = image_stack.sample(\n",
    "    region=roi,\n",
    "    scale=1113.2,  # 0.01° in meters (approx)\n",
    "    projection='EPSG:4326',\n",
    "    geometries=True\n",
    ")"
   ]
  },
  {
   "cell_type": "markdown",
   "id": "970b23f7",
   "metadata": {},
   "source": [
    "Export point mesh dataset from Google Earth Engine to the local machine"
   ]
  },
  {
   "cell_type": "code",
   "execution_count": 43,
   "id": "0c229df4",
   "metadata": {},
   "outputs": [
    {
     "data": {
      "text/html": [
       "\n",
       "            <style>\n",
       "                .geemap-dark {\n",
       "                    --jp-widgets-color: white;\n",
       "                    --jp-widgets-label-color: white;\n",
       "                    --jp-ui-font-color1: white;\n",
       "                    --jp-layout-color2: #454545;\n",
       "                    background-color: #383838;\n",
       "                }\n",
       "\n",
       "                .geemap-dark .jupyter-button {\n",
       "                    --jp-layout-color3: #383838;\n",
       "                }\n",
       "\n",
       "                .geemap-colab {\n",
       "                    background-color: var(--colab-primary-surface-color, white);\n",
       "                }\n",
       "\n",
       "                .geemap-colab .jupyter-button {\n",
       "                    --jp-layout-color3: var(--colab-primary-surface-color, white);\n",
       "                }\n",
       "            </style>\n",
       "            "
      ],
      "text/plain": [
       "<IPython.core.display.HTML object>"
      ]
     },
     "metadata": {},
     "output_type": "display_data"
    },
    {
     "name": "stdout",
     "output_type": "stream",
     "text": [
      "Generating URL ...\n",
      "Downloading data from https://earthengine.googleapis.com/v1/projects/ee-obautista/tables/1cdcc185a884c46fe08f4cc5fd6f3439-60a9fca3b063d017fa748f887957d2c9:getFeatures\n",
      "Please wait ...\n",
      "Data downloaded to /Volumes/T7/Github/Data-analysis-assignment/Data/spatial/shp/grid_data.shp\n"
     ]
    }
   ],
   "source": [
    "shp_var_path = '../Data/spatial/shp/grid_data.shp'\n",
    "geemap.ee_export_vector(sample_points,shp_var_path ,verbose=True)"
   ]
  },
  {
   "cell_type": "markdown",
   "id": "fccf64ed",
   "metadata": {},
   "source": [
    "Load the point grid mesh, add the coordinate and export as geojson"
   ]
  },
  {
   "cell_type": "code",
   "execution_count": 44,
   "id": "54978eb4",
   "metadata": {},
   "outputs": [
    {
     "data": {
      "text/html": [
       "\n",
       "            <style>\n",
       "                .geemap-dark {\n",
       "                    --jp-widgets-color: white;\n",
       "                    --jp-widgets-label-color: white;\n",
       "                    --jp-ui-font-color1: white;\n",
       "                    --jp-layout-color2: #454545;\n",
       "                    background-color: #383838;\n",
       "                }\n",
       "\n",
       "                .geemap-dark .jupyter-button {\n",
       "                    --jp-layout-color3: #383838;\n",
       "                }\n",
       "\n",
       "                .geemap-colab {\n",
       "                    background-color: var(--colab-primary-surface-color, white);\n",
       "                }\n",
       "\n",
       "                .geemap-colab .jupyter-button {\n",
       "                    --jp-layout-color3: var(--colab-primary-surface-color, white);\n",
       "                }\n",
       "            </style>\n",
       "            "
      ],
      "text/plain": [
       "<IPython.core.display.HTML object>"
      ]
     },
     "metadata": {},
     "output_type": "display_data"
    },
    {
     "name": "stdout",
     "output_type": "stream",
     "text": [
      "<class 'geopandas.geodataframe.GeoDataFrame'>\n",
      "RangeIndex: 4677 entries, 0 to 4676\n",
      "Data columns (total 6 columns):\n",
      " #   Column      Non-Null Count  Dtype   \n",
      "---  ------      --------------  -----   \n",
      " 0   mean_rain   4677 non-null   float64 \n",
      " 1   travel_tim  4677 non-null   int32   \n",
      " 2   ndvi        4677 non-null   float64 \n",
      " 3   geometry    4677 non-null   geometry\n",
      " 4   longitude   4677 non-null   float64 \n",
      " 5   latitude    4677 non-null   float64 \n",
      "dtypes: float64(4), geometry(1), int32(1)\n",
      "memory usage: 201.1 KB\n"
     ]
    }
   ],
   "source": [
    "grid_data = gpd.read_file(shp_var_path)\n",
    "\n",
    "# Assuming 'grid_data' is your GeoDataFrame\n",
    "grid_data['longitude'] = grid_data.geometry.x\n",
    "grid_data['latitude'] = grid_data.geometry.y\n",
    "grid_data.info()\n",
    "grid_data.to_file('../Data/spatial/grid_data_extended.geojson')\n"
   ]
  },
  {
   "cell_type": "code",
   "execution_count": 45,
   "id": "eb8c7557",
   "metadata": {},
   "outputs": [
    {
     "data": {
      "text/html": [
       "\n",
       "            <style>\n",
       "                .geemap-dark {\n",
       "                    --jp-widgets-color: white;\n",
       "                    --jp-widgets-label-color: white;\n",
       "                    --jp-ui-font-color1: white;\n",
       "                    --jp-layout-color2: #454545;\n",
       "                    background-color: #383838;\n",
       "                }\n",
       "\n",
       "                .geemap-dark .jupyter-button {\n",
       "                    --jp-layout-color3: #383838;\n",
       "                }\n",
       "\n",
       "                .geemap-colab {\n",
       "                    background-color: var(--colab-primary-surface-color, white);\n",
       "                }\n",
       "\n",
       "                .geemap-colab .jupyter-button {\n",
       "                    --jp-layout-color3: var(--colab-primary-surface-color, white);\n",
       "                }\n",
       "            </style>\n",
       "            "
      ],
      "text/plain": [
       "<IPython.core.display.HTML object>"
      ]
     },
     "metadata": {},
     "output_type": "display_data"
    },
    {
     "data": {
      "image/png": "[encoded data removed]",
      "text/plain": [
       "<Figure size 640x480 with 1 Axes>"
      ]
     },
     "metadata": {},
     "output_type": "display_data"
    }
   ],
   "source": [
    "# Visual check\n",
    "fig, ax = plt.subplots()\n",
    "gdf.plot(ax=ax, color='red', alpha=0.5)\n",
    "grid_data.plot(ax=ax, color='blue', markersize=1)\n",
    "plt.show()"
   ]
  },
  {
   "cell_type": "markdown",
   "id": "1d170f92",
   "metadata": {},
   "source": [
    "Next, create a function to rasterize the values from the columns; the unknown values are filled with the median to reduce their effect on the model"
   ]
  },
  {
   "cell_type": "code",
   "execution_count": 46,
   "id": "f2a5171c",
   "metadata": {},
   "outputs": [
    {
     "data": {
      "text/html": [
       "\n",
       "            <style>\n",
       "                .geemap-dark {\n",
       "                    --jp-widgets-color: white;\n",
       "                    --jp-widgets-label-color: white;\n",
       "                    --jp-ui-font-color1: white;\n",
       "                    --jp-layout-color2: #454545;\n",
       "                    background-color: #383838;\n",
       "                }\n",
       "\n",
       "                .geemap-dark .jupyter-button {\n",
       "                    --jp-layout-color3: #383838;\n",
       "                }\n",
       "\n",
       "                .geemap-colab {\n",
       "                    background-color: var(--colab-primary-surface-color, white);\n",
       "                }\n",
       "\n",
       "                .geemap-colab .jupyter-button {\n",
       "                    --jp-layout-color3: var(--colab-primary-surface-color, white);\n",
       "                }\n",
       "            </style>\n",
       "            "
      ],
      "text/plain": [
       "<IPython.core.display.HTML object>"
      ]
     },
     "metadata": {},
     "output_type": "display_data"
    }
   ],
   "source": [
    "\n",
    "\n",
    "def rasterize_cols (gdf, column_name, tif_path, fill):\n",
    "\n",
    "\n",
    "    # Define the bounding box and resolution\n",
    "    bbox = [34.41, -0.45, 35.09, 0.24]  # [west, south, east, north]\n",
    "    scale = 0.01  # degrees\n",
    "\n",
    "    # Calculate dimensions\n",
    "    width = int((bbox[2] - bbox[0]) / scale)\n",
    "    height = int((bbox[3] - bbox[1]) / scale)\n",
    "\n",
    "    # Create transform\n",
    "    transform = rasterio.transform.from_bounds(*bbox, width, height)\n",
    "\n",
    "    # Create shapes with actual values from your column\n",
    "    shapes = [(geom, value) for geom, value in zip(gdf.geometry, gdf[column_name])]\n",
    "\n",
    "    # Rasterize with actual values\n",
    "    rasterized = features.rasterize(\n",
    "        shapes,\n",
    "        out_shape=(height, width),\n",
    "        transform=transform,\n",
    "        fill= fill, # fill non-farm areas with median\n",
    "        dtype=np.float32  # use float to handle decimal values\n",
    "    )\n",
    "\n",
    "    # Save output\n",
    "    with rasterio.open(\n",
    "        tif_path,\n",
    "        'w',\n",
    "        driver='GTiff',\n",
    "        height=height,\n",
    "        width=width,\n",
    "        count=1,\n",
    "        dtype=rasterio.float32,\n",
    "        crs=gdf.crs,\n",
    "        transform=transform,\n",
    "        nodata= fill \n",
    "    ) as dst:\n",
    "        dst.write(rasterized, 1)\n",
    "\n",
    "    print(f\"Raster created with actual values from column: '{column_name}'\")"
   ]
  },
  {
   "cell_type": "code",
   "execution_count": 47,
   "id": "4ff6ff00",
   "metadata": {},
   "outputs": [
    {
     "data": {
      "text/html": [
       "\n",
       "            <style>\n",
       "                .geemap-dark {\n",
       "                    --jp-widgets-color: white;\n",
       "                    --jp-widgets-label-color: white;\n",
       "                    --jp-ui-font-color1: white;\n",
       "                    --jp-layout-color2: #454545;\n",
       "                    background-color: #383838;\n",
       "                }\n",
       "\n",
       "                .geemap-dark .jupyter-button {\n",
       "                    --jp-layout-color3: #383838;\n",
       "                }\n",
       "\n",
       "                .geemap-colab {\n",
       "                    background-color: var(--colab-primary-surface-color, white);\n",
       "                }\n",
       "\n",
       "                .geemap-colab .jupyter-button {\n",
       "                    --jp-layout-color3: var(--colab-primary-surface-color, white);\n",
       "                }\n",
       "            </style>\n",
       "            "
      ],
      "text/plain": [
       "<IPython.core.display.HTML object>"
      ]
     },
     "metadata": {},
     "output_type": "display_data"
    },
    {
     "data": {
      "text/plain": [
       "Index(['hhid', 'land_total_acres', 'land_cultivated_acres',\n",
       "       'maize_harvest_qty_kg', 'maize_yield_ton_acre',\n",
       "       'orgfert_qty_2024_kg_total_std', 'livestock_owned_bin',\n",
       "       'hh_head_education_class', 'climate_info_received_num', 'latitude',\n",
       "       'longitude'],\n",
       "      dtype='object')"
      ]
     },
     "execution_count": 47,
     "metadata": {},
     "output_type": "execute_result"
    }
   ],
   "source": [
    "merged.columns"
   ]
  },
  {
   "cell_type": "markdown",
   "id": "ead890b5",
   "metadata": {},
   "source": [
    "In this step,  define the values that the rasterizing function will use, specifying both the variable to rasterize and the values for areas with no data. \n",
    "\n",
    "This example uses the median value of each variable for simplicity and given the small number of farm data points; more robust geostatistical methods, such as kriging, inverse distance weighting (IDW), spline interpolation, or co-kriging, can also be applied."
   ]
  },
  {
   "cell_type": "code",
   "execution_count": 48,
   "id": "f6a51407",
   "metadata": {},
   "outputs": [
    {
     "data": {
      "text/html": [
       "\n",
       "            <style>\n",
       "                .geemap-dark {\n",
       "                    --jp-widgets-color: white;\n",
       "                    --jp-widgets-label-color: white;\n",
       "                    --jp-ui-font-color1: white;\n",
       "                    --jp-layout-color2: #454545;\n",
       "                    background-color: #383838;\n",
       "                }\n",
       "\n",
       "                .geemap-dark .jupyter-button {\n",
       "                    --jp-layout-color3: #383838;\n",
       "                }\n",
       "\n",
       "                .geemap-colab {\n",
       "                    background-color: var(--colab-primary-surface-color, white);\n",
       "                }\n",
       "\n",
       "                .geemap-colab .jupyter-button {\n",
       "                    --jp-layout-color3: var(--colab-primary-surface-color, white);\n",
       "                }\n",
       "            </style>\n",
       "            "
      ],
      "text/plain": [
       "<IPython.core.display.HTML object>"
      ]
     },
     "metadata": {},
     "output_type": "display_data"
    }
   ],
   "source": [
    "# column to rasterize\n",
    "column_name = 'land_cultivated_acres' \n",
    "column_name = 'maize_harvest_qty_kg'\n",
    "column_name = 'maize_yield_ton_acre'  \n",
    "column_name = 'orgfert_qty_2024_kg_total' \n",
    "\n",
    "#output tiff paths\n",
    "\n",
    "tif_path ='../Data/spatial/grid/cult_acr.tif'\n",
    "tif_path ='../Data/spatial/grid/maize_kg.tif'\n",
    "tif_path ='../Data/spatial/grid/maize_y.tif'\n",
    "tif_path ='../Data/spatial/grid/fert_kg.tif'\n",
    "\n",
    "# mean of each column\n",
    "fill = 1.00\n",
    "fill = 360\n",
    "fill = 0.37\n",
    "fill = 1250"
   ]
  },
  {
   "cell_type": "markdown",
   "id": "0de3a2ac",
   "metadata": {},
   "source": [
    "Apply the rasterize funtion to each variable"
   ]
  },
  {
   "cell_type": "code",
   "execution_count": 49,
   "id": "a64168a2",
   "metadata": {},
   "outputs": [
    {
     "data": {
      "text/html": [
       "\n",
       "            <style>\n",
       "                .geemap-dark {\n",
       "                    --jp-widgets-color: white;\n",
       "                    --jp-widgets-label-color: white;\n",
       "                    --jp-ui-font-color1: white;\n",
       "                    --jp-layout-color2: #454545;\n",
       "                    background-color: #383838;\n",
       "                }\n",
       "\n",
       "                .geemap-dark .jupyter-button {\n",
       "                    --jp-layout-color3: #383838;\n",
       "                }\n",
       "\n",
       "                .geemap-colab {\n",
       "                    background-color: var(--colab-primary-surface-color, white);\n",
       "                }\n",
       "\n",
       "                .geemap-colab .jupyter-button {\n",
       "                    --jp-layout-color3: var(--colab-primary-surface-color, white);\n",
       "                }\n",
       "            </style>\n",
       "            "
      ],
      "text/plain": [
       "<IPython.core.display.HTML object>"
      ]
     },
     "metadata": {},
     "output_type": "display_data"
    },
    {
     "name": "stdout",
     "output_type": "stream",
     "text": [
      "Raster created with actual values from column: 'land_cultivated_acres'\n",
      "Raster created with actual values from column: 'maize_harvest_qty_kg'\n",
      "Raster created with actual values from column: 'maize_yield_ton_acre'\n",
      "Raster created with actual values from column: 'orgfert_qty_2024_kg_total_std'\n",
      "Raster created with actual values from column: 'livestock_owned_bin'\n",
      "Raster created with actual values from column: 'hh_head_education_class'\n"
     ]
    }
   ],
   "source": [
    "rasterize_cols(gdf,'land_cultivated_acres','../Data/spatial/grid/cult_acr.tif',1.00)\n",
    "rasterize_cols(gdf,'maize_harvest_qty_kg','../Data/spatial/grid/maize_kg.tif',360)\n",
    "rasterize_cols(gdf,'maize_yield_ton_acre','../Data/spatial/grid/maize_y.tif',0.37)\n",
    "rasterize_cols(gdf,'orgfert_qty_2024_kg_total_std','../Data/spatial/grid/fert_kg.tif',1250)\n",
    "rasterize_cols(gdf,'livestock_owned_bin','../Data/spatial/grid/livestock.tif',1)\n",
    "rasterize_cols(gdf,'hh_head_education_class','../Data/spatial/grid/hh_edu.tif',2)"
   ]
  },
  {
   "cell_type": "markdown",
   "id": "6bf4b35e",
   "metadata": {},
   "source": [
    "Perform a visual check of one of the resulting files, using a logarithmic scale to better distinguish the farm pixels."
   ]
  },
  {
   "cell_type": "code",
   "execution_count": 50,
   "id": "b65925a0",
   "metadata": {},
   "outputs": [
    {
     "data": {
      "text/html": [
       "\n",
       "            <style>\n",
       "                .geemap-dark {\n",
       "                    --jp-widgets-color: white;\n",
       "                    --jp-widgets-label-color: white;\n",
       "                    --jp-ui-font-color1: white;\n",
       "                    --jp-layout-color2: #454545;\n",
       "                    background-color: #383838;\n",
       "                }\n",
       "\n",
       "                .geemap-dark .jupyter-button {\n",
       "                    --jp-layout-color3: #383838;\n",
       "                }\n",
       "\n",
       "                .geemap-colab {\n",
       "                    background-color: var(--colab-primary-surface-color, white);\n",
       "                }\n",
       "\n",
       "                .geemap-colab .jupyter-button {\n",
       "                    --jp-layout-color3: var(--colab-primary-surface-color, white);\n",
       "                }\n",
       "            </style>\n",
       "            "
      ],
      "text/plain": [
       "<IPython.core.display.HTML object>"
      ]
     },
     "metadata": {},
     "output_type": "display_data"
    },
    {
     "data": {
      "image/png": "[encoded data removed]",
      "text/plain": [
       "<Figure size 600x400 with 2 Axes>"
      ]
     },
     "metadata": {},
     "output_type": "display_data"
    }
   ],
   "source": [
    "\n",
    "#load the raster\n",
    "with rasterio.open('../Data/spatial/grid/cult_acr.tif') as src:\n",
    "    data = src.read(1)\n",
    "    bounds = src.bounds\n",
    "\n",
    "# Apply logarithmic stretch to enhance low values\n",
    "data_stretched = np.log1p(data)  # log(1 + x) to handle zeros\n",
    "#generate the plot\n",
    "plt.figure(figsize=(6, 4))\n",
    "plt.imshow(data_stretched, extent=[bounds.left, bounds.right, bounds.bottom, bounds.top], \n",
    "           cmap='viridis', origin='upper')\n",
    "plt.colorbar(label='Log(Cultivated Area + 1)')\n",
    "plt.title('Cultivated Area (Log Stretched)')\n",
    "plt.grid(True, alpha=0.3)\n",
    "plt.show()"
   ]
  },
  {
   "cell_type": "markdown",
   "id": "afd4475a",
   "metadata": {},
   "source": [
    "Sample the rasters derived from the merged dataset to get information from the surveys for the model"
   ]
  },
  {
   "cell_type": "code",
   "execution_count": 51,
   "id": "3ea6ef26",
   "metadata": {},
   "outputs": [
    {
     "data": {
      "text/html": [
       "\n",
       "            <style>\n",
       "                .geemap-dark {\n",
       "                    --jp-widgets-color: white;\n",
       "                    --jp-widgets-label-color: white;\n",
       "                    --jp-ui-font-color1: white;\n",
       "                    --jp-layout-color2: #454545;\n",
       "                    background-color: #383838;\n",
       "                }\n",
       "\n",
       "                .geemap-dark .jupyter-button {\n",
       "                    --jp-layout-color3: #383838;\n",
       "                }\n",
       "\n",
       "                .geemap-colab {\n",
       "                    background-color: var(--colab-primary-surface-color, white);\n",
       "                }\n",
       "\n",
       "                .geemap-colab .jupyter-button {\n",
       "                    --jp-layout-color3: var(--colab-primary-surface-color, white);\n",
       "                }\n",
       "            </style>\n",
       "            "
      ],
      "text/plain": [
       "<IPython.core.display.HTML object>"
      ]
     },
     "metadata": {},
     "output_type": "display_data"
    },
    {
     "name": "stdout",
     "output_type": "stream",
     "text": [
      "Grid data shape: (4677, 6)\n",
      "Grid data columns: ['mean_rain', 'travel_tim', 'ndvi', 'geometry', 'longitude', 'latitude']\n",
      "Processing: cult_acr.tif -> Column: cult_acr\n",
      "Processing: maize_kg.tif -> Column: maize_kg\n",
      "Processing: maize_y.tif -> Column: maize_y\n",
      "Processing: fert_kg.tif -> Column: fert_kg\n",
      "Processing: livestock.tif -> Column: livestock\n",
      "Processing: hh_edu.tif -> Column: hh_edu\n"
     ]
    }
   ],
   "source": [
    "\n",
    "# 1. Load your pre-existing grid data\n",
    "\n",
    "print(f\"Grid data shape: {grid_data.shape}\")\n",
    "print(f\"Grid data columns: {list(grid_data.columns)}\")\n",
    "\n",
    "# If it's a GeoDataFrame with geometry, extract coordinates:\n",
    "if hasattr(grid_data, 'geometry'):\n",
    "    grid_data['longitude'] = grid_data.geometry.x\n",
    "    grid_data['latitude'] = grid_data.geometry.y\n",
    "    \n",
    "# Define folder containing TIFF files\n",
    "tiff_folder = '../Data/spatial/grid/'\n",
    "\n",
    "# Extract values from all TIFF files\n",
    "for filename in os.listdir(tiff_folder):\n",
    "    if filename.endswith('.tif') or filename.endswith('.tiff'):\n",
    "        # Remove extension to get column name\n",
    "        col_name = os.path.splitext(filename)[0]\n",
    "        tiff_path = os.path.join(tiff_folder, filename)\n",
    "        \n",
    "        print(f\"Processing: {filename} -> Column: {col_name}\")\n",
    "        \n",
    "        try:\n",
    "            with rasterio.open(tiff_path) as src:\n",
    "                # Extract values for all grid points\n",
    "                values = []\n",
    "                for idx, row in grid_data.iterrows():\n",
    "                    # Convert lat/lon to raster row/col indices\n",
    "                    row_idx, col_idx = src.index(row['longitude'], row['latitude'])\n",
    "                    try:\n",
    "                        # Read value at this position (first band)\n",
    "                        value = src.read(1)[row_idx, col_idx]\n",
    "                        values.append(value)\n",
    "                    except IndexError:\n",
    "                        # If point is outside raster bounds, use NaN\n",
    "                        values.append()\n",
    "            \n",
    "            # Add extracted values as new column\n",
    "            grid_data[col_name] = values\n",
    "            \n",
    "        except Exception as e:\n",
    "            print(f\"Error processing {filename}: {e}\")\n",
    "            continue"
   ]
  },
  {
   "cell_type": "code",
   "execution_count": 52,
   "id": "e9a4c707",
   "metadata": {},
   "outputs": [
    {
     "data": {
      "text/html": [
       "\n",
       "            <style>\n",
       "                .geemap-dark {\n",
       "                    --jp-widgets-color: white;\n",
       "                    --jp-widgets-label-color: white;\n",
       "                    --jp-ui-font-color1: white;\n",
       "                    --jp-layout-color2: #454545;\n",
       "                    background-color: #383838;\n",
       "                }\n",
       "\n",
       "                .geemap-dark .jupyter-button {\n",
       "                    --jp-layout-color3: #383838;\n",
       "                }\n",
       "\n",
       "                .geemap-colab {\n",
       "                    background-color: var(--colab-primary-surface-color, white);\n",
       "                }\n",
       "\n",
       "                .geemap-colab .jupyter-button {\n",
       "                    --jp-layout-color3: var(--colab-primary-surface-color, white);\n",
       "                }\n",
       "            </style>\n",
       "            "
      ],
      "text/plain": [
       "<IPython.core.display.HTML object>"
      ]
     },
     "metadata": {},
     "output_type": "display_data"
    },
    {
     "data": {
      "text/html": [
       "<div>\n",
       "<style scoped>\n",
       "    .dataframe tbody tr th:only-of-type {\n",
       "        vertical-align: middle;\n",
       "    }\n",
       "\n",
       "    .dataframe tbody tr th {\n",
       "        vertical-align: top;\n",
       "    }\n",
       "\n",
       "    .dataframe thead th {\n",
       "        text-align: right;\n",
       "    }\n",
       "</style>\n",
       "<table border=\"1\" class=\"dataframe\">\n",
       "  <thead>\n",
       "    <tr style=\"text-align: right;\">\n",
       "      <th></th>\n",
       "      <th>mean_rain</th>\n",
       "      <th>travel_tim</th>\n",
       "      <th>ndvi</th>\n",
       "      <th>geometry</th>\n",
       "      <th>longitude</th>\n",
       "      <th>latitude</th>\n",
       "      <th>cult_acr</th>\n",
       "      <th>maize_kg</th>\n",
       "      <th>maize_y</th>\n",
       "      <th>fert_kg</th>\n",
       "      <th>livestock</th>\n",
       "      <th>hh_edu</th>\n",
       "    </tr>\n",
       "  </thead>\n",
       "  <tbody>\n",
       "    <tr>\n",
       "      <th>count</th>\n",
       "      <td>4677.000000</td>\n",
       "      <td>4677.000000</td>\n",
       "      <td>4677.000000</td>\n",
       "      <td>4677</td>\n",
       "      <td>4677.000000</td>\n",
       "      <td>4677.000000</td>\n",
       "      <td>4677.000000</td>\n",
       "      <td>4677.000000</td>\n",
       "      <td>4677.000000</td>\n",
       "      <td>4677.000000</td>\n",
       "      <td>4677.000000</td>\n",
       "      <td>4677.000000</td>\n",
       "    </tr>\n",
       "    <tr>\n",
       "      <th>unique</th>\n",
       "      <td>NaN</td>\n",
       "      <td>NaN</td>\n",
       "      <td>NaN</td>\n",
       "      <td>4677</td>\n",
       "      <td>NaN</td>\n",
       "      <td>NaN</td>\n",
       "      <td>NaN</td>\n",
       "      <td>NaN</td>\n",
       "      <td>NaN</td>\n",
       "      <td>NaN</td>\n",
       "      <td>NaN</td>\n",
       "      <td>NaN</td>\n",
       "    </tr>\n",
       "    <tr>\n",
       "      <th>top</th>\n",
       "      <td>NaN</td>\n",
       "      <td>NaN</td>\n",
       "      <td>NaN</td>\n",
       "      <td>POINT (34.46515765262401 -0.4450020355554239)</td>\n",
       "      <td>NaN</td>\n",
       "      <td>NaN</td>\n",
       "      <td>NaN</td>\n",
       "      <td>NaN</td>\n",
       "      <td>NaN</td>\n",
       "      <td>NaN</td>\n",
       "      <td>NaN</td>\n",
       "      <td>NaN</td>\n",
       "    </tr>\n",
       "    <tr>\n",
       "      <th>freq</th>\n",
       "      <td>NaN</td>\n",
       "      <td>NaN</td>\n",
       "      <td>NaN</td>\n",
       "      <td>1</td>\n",
       "      <td>NaN</td>\n",
       "      <td>NaN</td>\n",
       "      <td>NaN</td>\n",
       "      <td>NaN</td>\n",
       "      <td>NaN</td>\n",
       "      <td>NaN</td>\n",
       "      <td>NaN</td>\n",
       "      <td>NaN</td>\n",
       "    </tr>\n",
       "    <tr>\n",
       "      <th>mean</th>\n",
       "      <td>27.581481</td>\n",
       "      <td>33.066282</td>\n",
       "      <td>0.664774</td>\n",
       "      <td>NaN</td>\n",
       "      <td>34.750254</td>\n",
       "      <td>-0.104628</td>\n",
       "      <td>1.009618</td>\n",
       "      <td>364.287781</td>\n",
       "      <td>0.373102</td>\n",
       "      <td>1258.846436</td>\n",
       "      <td>0.997434</td>\n",
       "      <td>1.994227</td>\n",
       "    </tr>\n",
       "    <tr>\n",
       "      <th>std</th>\n",
       "      <td>4.152267</td>\n",
       "      <td>24.820586</td>\n",
       "      <td>0.275856</td>\n",
       "      <td>NaN</td>\n",
       "      <td>0.196563</td>\n",
       "      <td>0.199395</td>\n",
       "      <td>0.236451</td>\n",
       "      <td>89.567116</td>\n",
       "      <td>0.068888</td>\n",
       "      <td>190.356125</td>\n",
       "      <td>0.050594</td>\n",
       "      <td>0.194472</td>\n",
       "    </tr>\n",
       "    <tr>\n",
       "      <th>min</th>\n",
       "      <td>14.527000</td>\n",
       "      <td>0.000000</td>\n",
       "      <td>-0.188200</td>\n",
       "      <td>NaN</td>\n",
       "      <td>34.415157</td>\n",
       "      <td>-0.445002</td>\n",
       "      <td>0.173241</td>\n",
       "      <td>20.000000</td>\n",
       "      <td>0.020000</td>\n",
       "      <td>20.000000</td>\n",
       "      <td>0.000000</td>\n",
       "      <td>0.000000</td>\n",
       "    </tr>\n",
       "    <tr>\n",
       "      <th>25%</th>\n",
       "      <td>24.885387</td>\n",
       "      <td>16.000000</td>\n",
       "      <td>0.716200</td>\n",
       "      <td>NaN</td>\n",
       "      <td>34.575158</td>\n",
       "      <td>-0.275001</td>\n",
       "      <td>1.000000</td>\n",
       "      <td>360.000000</td>\n",
       "      <td>0.370000</td>\n",
       "      <td>1250.000000</td>\n",
       "      <td>1.000000</td>\n",
       "      <td>2.000000</td>\n",
       "    </tr>\n",
       "    <tr>\n",
       "      <th>50%</th>\n",
       "      <td>26.868463</td>\n",
       "      <td>27.000000</td>\n",
       "      <td>0.774200</td>\n",
       "      <td>NaN</td>\n",
       "      <td>34.755159</td>\n",
       "      <td>-0.105000</td>\n",
       "      <td>1.000000</td>\n",
       "      <td>360.000000</td>\n",
       "      <td>0.370000</td>\n",
       "      <td>1250.000000</td>\n",
       "      <td>1.000000</td>\n",
       "      <td>2.000000</td>\n",
       "    </tr>\n",
       "    <tr>\n",
       "      <th>75%</th>\n",
       "      <td>30.495197</td>\n",
       "      <td>43.000000</td>\n",
       "      <td>0.803600</td>\n",
       "      <td>NaN</td>\n",
       "      <td>34.925160</td>\n",
       "      <td>0.065000</td>\n",
       "      <td>1.000000</td>\n",
       "      <td>360.000000</td>\n",
       "      <td>0.370000</td>\n",
       "      <td>1250.000000</td>\n",
       "      <td>1.000000</td>\n",
       "      <td>2.000000</td>\n",
       "    </tr>\n",
       "    <tr>\n",
       "      <th>max</th>\n",
       "      <td>39.453277</td>\n",
       "      <td>202.000000</td>\n",
       "      <td>0.927100</td>\n",
       "      <td>NaN</td>\n",
       "      <td>35.085160</td>\n",
       "      <td>0.235001</td>\n",
       "      <td>9.500000</td>\n",
       "      <td>2520.000000</td>\n",
       "      <td>1.800000</td>\n",
       "      <td>6480.000000</td>\n",
       "      <td>1.000000</td>\n",
       "      <td>5.000000</td>\n",
       "    </tr>\n",
       "  </tbody>\n",
       "</table>\n",
       "</div>"
      ],
      "text/plain": [
       "          mean_rain   travel_tim         ndvi  \\\n",
       "count   4677.000000  4677.000000  4677.000000   \n",
       "unique          NaN          NaN          NaN   \n",
       "top             NaN          NaN          NaN   \n",
       "freq            NaN          NaN          NaN   \n",
       "mean      27.581481    33.066282     0.664774   \n",
       "std        4.152267    24.820586     0.275856   \n",
       "min       14.527000     0.000000    -0.188200   \n",
       "25%       24.885387    16.000000     0.716200   \n",
       "50%       26.868463    27.000000     0.774200   \n",
       "75%       30.495197    43.000000     0.803600   \n",
       "max       39.453277   202.000000     0.927100   \n",
       "\n",
       "                                             geometry    longitude  \\\n",
       "count                                            4677  4677.000000   \n",
       "unique                                           4677          NaN   \n",
       "top     POINT (34.46515765262401 -0.4450020355554239)          NaN   \n",
       "freq                                                1          NaN   \n",
       "mean                                              NaN    34.750254   \n",
       "std                                               NaN     0.196563   \n",
       "min                                               NaN    34.415157   \n",
       "25%                                               NaN    34.575158   \n",
       "50%                                               NaN    34.755159   \n",
       "75%                                               NaN    34.925160   \n",
       "max                                               NaN    35.085160   \n",
       "\n",
       "           latitude     cult_acr     maize_kg      maize_y      fert_kg  \\\n",
       "count   4677.000000  4677.000000  4677.000000  4677.000000  4677.000000   \n",
       "unique          NaN          NaN          NaN          NaN          NaN   \n",
       "top             NaN          NaN          NaN          NaN          NaN   \n",
       "freq            NaN          NaN          NaN          NaN          NaN   \n",
       "mean      -0.104628     1.009618   364.287781     0.373102  1258.846436   \n",
       "std        0.199395     0.236451    89.567116     0.068888   190.356125   \n",
       "min       -0.445002     0.173241    20.000000     0.020000    20.000000   \n",
       "25%       -0.275001     1.000000   360.000000     0.370000  1250.000000   \n",
       "50%       -0.105000     1.000000   360.000000     0.370000  1250.000000   \n",
       "75%        0.065000     1.000000   360.000000     0.370000  1250.000000   \n",
       "max        0.235001     9.500000  2520.000000     1.800000  6480.000000   \n",
       "\n",
       "          livestock       hh_edu  \n",
       "count   4677.000000  4677.000000  \n",
       "unique          NaN          NaN  \n",
       "top             NaN          NaN  \n",
       "freq            NaN          NaN  \n",
       "mean       0.997434     1.994227  \n",
       "std        0.050594     0.194472  \n",
       "min        0.000000     0.000000  \n",
       "25%        1.000000     2.000000  \n",
       "50%        1.000000     2.000000  \n",
       "75%        1.000000     2.000000  \n",
       "max        1.000000     5.000000  "
      ]
     },
     "execution_count": 52,
     "metadata": {},
     "output_type": "execute_result"
    }
   ],
   "source": [
    "grid_data.describe(include='all')"
   ]
  },
  {
   "cell_type": "markdown",
   "id": "06c5bd52",
   "metadata": {},
   "source": [
    "Export the geospatial json file"
   ]
  },
  {
   "cell_type": "code",
   "execution_count": 53,
   "id": "7a7a0b12",
   "metadata": {},
   "outputs": [
    {
     "data": {
      "text/html": [
       "\n",
       "            <style>\n",
       "                .geemap-dark {\n",
       "                    --jp-widgets-color: white;\n",
       "                    --jp-widgets-label-color: white;\n",
       "                    --jp-ui-font-color1: white;\n",
       "                    --jp-layout-color2: #454545;\n",
       "                    background-color: #383838;\n",
       "                }\n",
       "\n",
       "                .geemap-dark .jupyter-button {\n",
       "                    --jp-layout-color3: #383838;\n",
       "                }\n",
       "\n",
       "                .geemap-colab {\n",
       "                    background-color: var(--colab-primary-surface-color, white);\n",
       "                }\n",
       "\n",
       "                .geemap-colab .jupyter-button {\n",
       "                    --jp-layout-color3: var(--colab-primary-surface-color, white);\n",
       "                }\n",
       "            </style>\n",
       "            "
      ],
      "text/plain": [
       "<IPython.core.display.HTML object>"
      ]
     },
     "metadata": {},
     "output_type": "display_data"
    }
   ],
   "source": [
    "gdf.to_file('../Data/spatial/farms_merged_vals.geojson')"
   ]
  },
  {
   "cell_type": "markdown",
   "id": "1915d92c",
   "metadata": {},
   "source": [
    "The analysis continues in the notebook 5_spatial_model.ipynb"
   ]
  }
 ],
 "metadata": {
  "kernelspec": {
   "display_name": "damage",
   "language": "python",
   "name": "python3"
  },
  "language_info": {
   "codemirror_mode": {
    "name": "ipython",
    "version": 3
   },
   "file_extension": ".py",
   "mimetype": "text/x-python",
   "name": "python",
   "nbconvert_exporter": "python",
   "pygments_lexer": "ipython3",
   "version": "3.10.18"
  }
 },
 "nbformat": 4,
 "nbformat_minor": 5
}
