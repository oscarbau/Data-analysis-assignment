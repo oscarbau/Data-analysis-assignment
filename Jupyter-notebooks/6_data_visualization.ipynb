{
 "cells": [
  {
   "cell_type": "markdown",
   "id": "9ccac6d1",
   "metadata": {},
   "source": [
    "# Data Visualization"
   ]
  },
  {
   "cell_type": "markdown",
   "id": "53f65032",
   "metadata": {},
   "source": [
    "This notebook focuses on visualizing the survey data to provide insights into the socioeconomic and agricultural characteristics of the surveyed households.\n",
    "\n",
    "Additional visualizations have been provided along the data analyisis in previous notebooks.\n",
    "\n",
    "Overview of the visualization process in this notebook:\n",
    "\n",
    "Renaming variables: standardizing and renaming columns for clarity in presentation and figures.\n",
    "\n",
    "Exploratory figures: creating visualizations that summarize land use, production, household demographics, and other key survey variables.\n",
    "\n",
    "Access analysis: generating plots to explore relationships between access to agri-climate information and advisory services, and factors such as education level and maize yield."
   ]
  },
  {
   "cell_type": "code",
   "execution_count": 33,
   "id": "cb054b02",
   "metadata": {},
   "outputs": [],
   "source": [
    "# import libraries\n",
    "import plotly.graph_objects as go\n",
    "from plotly.subplots import make_subplots\n",
    "import pandas as pd\n",
    "import plotly.express as px"
   ]
  },
  {
   "cell_type": "markdown",
   "id": "1185adbe",
   "metadata": {},
   "source": [
    "Load cleaned merged dataset"
   ]
  },
  {
   "cell_type": "code",
   "execution_count": 34,
   "id": "bf74ab0c",
   "metadata": {},
   "outputs": [
    {
     "name": "stdout",
     "output_type": "stream",
     "text": [
      "<class 'pandas.core.frame.DataFrame'>\n",
      "RangeIndex: 100 entries, 0 to 99\n",
      "Data columns (total 25 columns):\n",
      " #   Column                         Non-Null Count  Dtype  \n",
      "---  ------                         --------------  -----  \n",
      " 0   hhid                           100 non-null    int64  \n",
      " 1   land_total_acres               100 non-null    float64\n",
      " 2   land_cultivated_acres          100 non-null    float64\n",
      " 3   maize_harvest_qty              100 non-null    float64\n",
      " 4   maize_unit                     100 non-null    object \n",
      " 5   livestock_owned                100 non-null    object \n",
      " 6   livestock_types                100 non-null    object \n",
      " 7   usedom                         100 non-null    object \n",
      " 8   climate_info_received          100 non-null    object \n",
      " 9   hh_head_gender                 100 non-null    object \n",
      " 10  hh_size_total                  100 non-null    int64  \n",
      " 11  hh_head_education              100 non-null    object \n",
      " 12  latitude                       100 non-null    float64\n",
      " 13  longitude                      100 non-null    float64\n",
      " 14  orgfert_quantity_2024          100 non-null    object \n",
      " 15  maize_harvest_qty_kg           100 non-null    float64\n",
      " 16  climate_info_received_std      100 non-null    object \n",
      " 17  maize_yield_ton_acre           100 non-null    float64\n",
      " 18  orgfert_qty_2024_kg_total      59 non-null     float64\n",
      " 19  orgfert_names_2024             59 non-null     object \n",
      " 20  orgfert_qty_2024_kg            59 non-null     object \n",
      " 21  orgfert_qty_2024_kg_total_std  100 non-null    float64\n",
      " 22  climate_info_received_num      100 non-null    int64  \n",
      " 23  livestock_owned_bin            100 non-null    int64  \n",
      " 24  hh_head_education_class        100 non-null    int64  \n",
      "dtypes: float64(9), int64(5), object(11)\n",
      "memory usage: 19.7+ KB\n"
     ]
    }
   ],
   "source": [
    "merged = pd.read_csv('../Data/cleaned/merged_std_all.csv')\n",
    "merged.info()"
   ]
  },
  {
   "cell_type": "markdown",
   "id": "b18f3b95",
   "metadata": {},
   "source": [
    "The initial step to visualize the data is to rename the variables in the dataset so they look smooth and clear on the plots"
   ]
  },
  {
   "cell_type": "code",
   "execution_count": 35,
   "id": "b6f958c2",
   "metadata": {},
   "outputs": [
    {
     "name": "stdout",
     "output_type": "stream",
     "text": [
      "Index(['Household ID', 'Total Land Acres', 'Cultivated Land Acres',\n",
      "       'Maize Harvest Quantity', 'Maize Quantity Unit', 'Owns Livestock',\n",
      "       'Livestock Types', 'Organic Matter Used', 'Received Climate Info',\n",
      "       'Household Head Gender', 'Household Size', 'Household Head Education',\n",
      "       'Latitude', 'Longitude', 'Organic Fertilizer Quantity 2024',\n",
      "       'Maize Harvested (Kg)', 'Climate Info Received Standardized',\n",
      "       'Maize Yield (Ton/Acre)', 'Total Organic Fertilizer (Kg) 2024',\n",
      "       'Organic Fertilizer Names 2024', 'Organic Fertilizer Qty (Kg) 2024',\n",
      "       'Total Organic Fertilizer (Kg) Standaridized',\n",
      "       'Climate Info Received (Binary)', 'Owns Livestock (Binary)',\n",
      "       'Houshold Head Education Classified'],\n",
      "      dtype='object')\n"
     ]
    }
   ],
   "source": [
    "# Dictionary with spaces\n",
    "rename_dict_spaces = {\n",
    "    'hhid': 'Household ID',\n",
    "    'land_total_acres': 'Total Land Acres',\n",
    "    'land_cultivated_acres': 'Cultivated Land Acres',\n",
    "    'maize_harvest_qty': 'Maize Harvest Quantity',\n",
    "    'maize_unit': 'Maize Quantity Unit',\n",
    "    'livestock_owned': 'Owns Livestock',\n",
    "    'livestock_types': 'Livestock Types',\n",
    "    'usedom': 'Organic Matter Used',\n",
    "    'climate_info_received': 'Received Climate Info',\n",
    "    'hh_head_gender': 'Household Head Gender',\n",
    "    'hh_size_total': 'Household Size',\n",
    "    'hh_head_education': 'Household Head Education',\n",
    "    'latitude': 'Latitude',\n",
    "    'longitude': 'Longitude',\n",
    "    'orgfert_quantity_2024': 'Organic Fertilizer Quantity 2024',\n",
    "    'maize_harvest_qty_kg': 'Maize Harvested (Kg)',\n",
    "    'climate_info_received_std': 'Climate Info Received Standardized',\n",
    "    'maize_yield_ton_acre': 'Maize Yield (Ton/Acre)',\n",
    "    'orgfert_qty_2024_kg_total': 'Total Organic Fertilizer (Kg) 2024',\n",
    "    'orgfert_names_2024': 'Organic Fertilizer Names 2024',\n",
    "    'orgfert_qty_2024_kg': 'Organic Fertilizer Qty (Kg) 2024',\n",
    "    'climate_info_received_num': 'Climate Info Received (Binary)',\n",
    "    'livestock_owned_bin': 'Owns Livestock (Binary)',\n",
    "    'hh_head_education_class': 'Houshold Head Education Classified',\n",
    "    'orgfert_qty_2024_kg_total_std': 'Total Organic Fertilizer (Kg) Standaridized'\n",
    "}\n",
    "\n",
    "# Apply renaming\n",
    "merged.rename(columns=rename_dict_spaces, inplace=True)\n",
    "\n",
    "# Check result\n",
    "print(merged.columns)\n"
   ]
  },
  {
   "cell_type": "markdown",
   "id": "f6c13376",
   "metadata": {},
   "source": [
    "The next composed figure provides a comprehensive overview of the socioeconomic and agricultural characteristics of the surveyed households. \n",
    "\n",
    "The first row shows the distribution of household education levels. The household size distribution indicates the typical family size in the sample, and the gender distribution by education reveals differences in educational attainment between male and female household heads. \n",
    "\n",
    "The second row explores agricultural patterns in relation to households that receive climate information and agricultural advisory (\"Yes\"): total versus cultivated land shows how much land is actively farmed depending on whether households received advisory; maize yield versus cultivated land illustrates productivity trends; and maize yield versus organic fertilizer use highlights the relationship between input usage and crop performance. \n",
    "\n",
    "Overall, the plots demonstrate the interplay between household characteristics, land use, and farming outcomes, while also showing how access to advisory services may influence agricultural practices.\n",
    "\n",
    "The user can interactively explore the data by hovering over the figures or legend."
   ]
  },
  {
   "cell_type": "code",
   "execution_count": 36,
   "id": "9b041e0f",
   "metadata": {},
   "outputs": [
    {
     "name": "stderr",
     "output_type": "stream",
     "text": [
      "/var/folders/qx/9__482dx7kxchkqq764hl5z00000gq/T/ipykernel_4523/2236471089.py:59: FutureWarning:\n",
      "\n",
      "The default of observed=False is deprecated and will be changed to True in a future version of pandas. Pass observed=False to retain current behavior or observed=True to adopt the future default and silence this warning.\n",
      "\n"
     ]
    },
    {
     "data": {
      "application/vnd.plotly.v1+json": {
       "config": {
        "plotlyServerURL": "https://plot.ly"
       },
       "data": [
        {
         "marker": {
          "color": "navajowhite",
          "line": {
           "color": "black",
           "width": 1
          }
         },
         "name": "Education Levels",
         "type": "bar",
         "x": [
          "Primary",
          "Secondary",
          "Undergraduate degree",
          "Diploma",
          "Certificate",
          "Postgraduate degree"
         ],
         "xaxis": "x",
         "y": {
          "bdata": "ESQMEREB",
          "dtype": "i1"
         },
         "yaxis": "y"
        },
        {
         "marker": {
          "color": "navajowhite",
          "line": {
           "color": "black",
           "width": 1
          }
         },
         "name": "Household Size",
         "type": "histogram",
         "x": {
          "bdata": "CggDBQUEBgYHCQcIAgcEBwYHBggDBQcPBQoFAwQDCQcDBwYFFAQGBwoFBAUEBggGCAgFCAIIDwYGBwEHBQMECAUHCA4KBgYGAwcMBAwECgYGCgYDCgQPBQcMCgQGBAYECggGBQ==",
          "dtype": "i1"
         },
         "xaxis": "x2",
         "yaxis": "y2"
        },
        {
         "marker": {
          "color": "orange",
          "line": {
           "color": "black",
           "width": 0.5
          }
         },
         "name": "Female",
         "type": "bar",
         "x": [
          "Primary",
          "Secondary",
          "Undergraduate degree",
          "Diploma",
          "Certificate",
          "Postgraduate degree"
         ],
         "xaxis": "x3",
         "y": {
          "bdata": "CAkBAQIA",
          "dtype": "i1"
         },
         "yaxis": "y3"
        },
        {
         "marker": {
          "color": "steelblue",
          "line": {
           "color": "black",
           "width": 0.5
          }
         },
         "name": "Male",
         "type": "bar",
         "x": [
          "Primary",
          "Secondary",
          "Undergraduate degree",
          "Diploma",
          "Certificate",
          "Postgraduate degree"
         ],
         "xaxis": "x3",
         "y": {
          "bdata": "CRsLEA8B",
          "dtype": "i1"
         },
         "yaxis": "y3"
        },
        {
         "marker": {
          "color": "lightblue",
          "line": {
           "color": "black",
           "width": 0.5
          },
          "size": 6
         },
         "mode": "markers",
         "name": "Cultivated land vs total land: Yes",
         "type": "scatter",
         "x": {
          "bdata": "AAAAAAAABEAAAAAAAAAAQAAAAAAAAPg/AAAAAAAACEAAAAAAAADQPwAAAAAAAPA/AAAAAAAA8D8AAAAAAAAkQAAAAAAAABxAAAAAAAAA+D8AAAAAAAAYQAAAAAAAAABAAAAAAAAAJ0AAAAAAAADgPwAAAAAAAOA/AAAAAAAA+D8AAAAAAADwPwAAAAAAABxAAAAAAAAA8D8AAAAAAADQPwAAAAAAAPg/AAAAAAAA6D8AAAAAAADgPwAAAAAAAPQ/AAAAAAAA0D8AAAAAAAAUQAAAAAAAABBAAAAAAAAAAEAAAAAAAAAkQAAAAAAAAABAAAAAAAAA8D8AAAAAAAAAQAAAAAAAAARAAAAAAAAACEAAAAAAAADQPwAAAAAAAABAAAAAAAAAAEAAAAAAAADwPwAAAAAAAOg/AAAAAAAA0D8AAAAAAADQPwAAAAAAABRAAAAAAAAAAEAAAAAAAADgPwAAAAAAABpAAAAAAAAA8D8AAAAAAADQPwAAAAAAABBAAAAAAAAA4D8AAAAAAAAAQAAAAAAAAAhAAAAAAAAA4D8AAAAAAAAUQAAAAAAAAOA/AAAAAAAA0D8AAAAAAADwPwAAAAAAAABAAAAAAAAA9D8AAAAAAADoPwAAAAAAAAhAAAAAAAAA8D8AAAAAAAAIQAAAAAAAAPg/AAAAAAAA9D8AAAAAAADoPwAAAAAAAOg/AAAAAAAA0D8AAAAAAAAAQA==",
          "dtype": "f8"
         },
         "xaxis": "x4",
         "y": {
          "bdata": "AAAAAAAA4D8AAAAAAADwPwAAAAAAAPQ/AAAAAAAAAEAAAAAAAADQPwAAAAAAAOA/AAAAAAAA4D8AAAAAAAAgQAAAAAAAABZARTeCyJKh8D8AAAAAAAAUQAAAAAAAAPA/AAAAAAAAI0Ba9AK2wyzWP5qZmZmZmdk/AAAAAAAA8D8AAAAAAADgPwAAAAAAAAhAAAAAAAAA4D9a9AK2wyzGPwAAAAAAAPg/RDeCyJKh4D8AAAAAAADgPwAAAAAAAPA/AAAAAAAA0D8AAAAAAAAAQAAAAAAAAPA/AAAAAAAA8D8AAAAAAAAIQAAAAAAAAABAAAAAAAAA0D8AAAAAAADwPwAAAAAAAABAAAAAAAAAAEAAAAAAAADQPwAAAAAAAPg/AAAAAAAA8D8AAAAAAADoPwAAAAAAAOA/AAAAAAAA0D8AAAAAAADQPwAAAAAAAAxAAAAAAAAA8D8AAAAAAADgPwAAAAAAAABAAAAAAAAA8D9a9AK2wyzGPwAAAAAAAAhAAAAAAAAA4D8AAAAAAAD4PwAAAAAAAABAAAAAAAAA4D8AAAAAAAAAQAAAAAAAAOA/AAAAAAAA0D8AAAAAAADgPwAAAAAAAABAAAAAAAAA8D8AAAAAAADgPwAAAAAAAPA/AAAAAAAA8D8AAAAAAADwPwAAAAAAAPA/AAAAAAAA6D8AAAAAAADoPwAAAAAAANA/AAAAAAAA0D8AAAAAAAAAQA==",
          "dtype": "f8"
         },
         "yaxis": "y4"
        },
        {
         "marker": {
          "color": "orange",
          "line": {
           "color": "black",
           "width": 0.5
          },
          "size": 6
         },
         "mode": "markers",
         "name": "Cultivated land vs total land: No",
         "type": "scatter",
         "x": {
          "bdata": "AAAAAAAA+D8AAAAAAAAIQAAAAAAAAOA/AAAAAAAA+D8AAAAAAAAAQAAAAAAAAAhAAAAAAAAAHEAAAAAAAAAUQAAAAAAAAAhAAAAAAAAAIEAAAAAAAAD4PwAAAAAAAOg/AAAAAAAABEAAAAAAAAD4PwAAAAAAAPg/AAAAAAAA8D8AAAAAAADQPwAAAAAAAARAAAAAAAAA/D8AAAAAAAAUQAAAAAAAAPA/AAAAAAAA8D8AAAAAAADwPwAAAAAAAOA/AAAAAAAA0D8AAAAAAADgPwAAAAAAAPA/AAAAAAAAFkAAAAAAAAD0PwAAAAAAAPA/AAAAAAAA+D8AAAAAAADwPw==",
          "dtype": "f8"
         },
         "xaxis": "x4",
         "y": {
          "bdata": "AAAAAAAA+D8AAAAAAAAIQAAAAAAAAOA/AAAAAAAA+D8AAAAAAADgPwAAAAAAAABAAAAAAAAAFEAAAAAAAAAIQEQ3gsiSoQBAAAAAAAAAFEAAAAAAAAD4PwAAAAAAAOA/AAAAAAAAAEAAAAAAAADwPwAAAAAAAPg/AAAAAAAA8D8AAAAAAADQPwAAAAAAAABAAAAAAAAA/D8AAAAAAAAIQAAAAAAAAPA/AAAAAAAA4D8AAAAAAADwPwAAAAAAAOA/AAAAAAAA0D8AAAAAAADQPwAAAAAAAOA/AAAAAAAAFEAAAAAAAADwPwAAAAAAAOg/AAAAAAAA8D8AAAAAAADwPw==",
          "dtype": "f8"
         },
         "yaxis": "y4"
        },
        {
         "marker": {
          "color": "lightblue",
          "line": {
           "color": "black",
           "width": 0.5
          },
          "size": 6
         },
         "mode": "markers",
         "name": "Yield vs cultivated land: Yes",
         "type": "scatter",
         "x": {
          "bdata": "AAAAAAAA4D8AAAAAAADwPwAAAAAAAPQ/AAAAAAAAAEAAAAAAAADQPwAAAAAAAOA/AAAAAAAA4D8AAAAAAAAgQAAAAAAAABZARTeCyJKh8D8AAAAAAAAUQAAAAAAAAPA/AAAAAAAAI0Ba9AK2wyzWP5qZmZmZmdk/AAAAAAAA8D8AAAAAAADgPwAAAAAAAAhAAAAAAAAA4D9a9AK2wyzGPwAAAAAAAPg/RDeCyJKh4D8AAAAAAADgPwAAAAAAAPA/AAAAAAAA0D8AAAAAAAAAQAAAAAAAAPA/AAAAAAAA8D8AAAAAAAAIQAAAAAAAAABAAAAAAAAA0D8AAAAAAADwPwAAAAAAAABAAAAAAAAAAEAAAAAAAADQPwAAAAAAAPg/AAAAAAAA8D8AAAAAAADoPwAAAAAAAOA/AAAAAAAA0D8AAAAAAADQPwAAAAAAAAxAAAAAAAAA8D8AAAAAAADgPwAAAAAAAABAAAAAAAAA8D9a9AK2wyzGPwAAAAAAAAhAAAAAAAAA4D8AAAAAAAD4PwAAAAAAAABAAAAAAAAA4D8AAAAAAAAAQAAAAAAAAOA/AAAAAAAA0D8AAAAAAADgPwAAAAAAAABAAAAAAAAA8D8AAAAAAADgPwAAAAAAAPA/AAAAAAAA8D8AAAAAAADwPwAAAAAAAPA/AAAAAAAA6D8AAAAAAADoPwAAAAAAANA/AAAAAAAA0D8AAAAAAAAAQA==",
          "dtype": "f8"
         },
         "xaxis": "x5",
         "y": {
          "bdata": "SOF6FK5H0T+amZmZmZn1P+xRuB6F68E/KVyPwvUo9D/NzMzMzMz8PwrXo3A9Ctc/zczMzMzM7D97FK5H4Xq0P1K4HoXrUdg/hetRuB6F4z8pXI/C9SjMP0jhehSuR9E/mpmZmZmZyT+4HoXrUbi+P83MzMzMzNw/AAAAAAAA4D8K16NwPQq3PzMzMzMzM+M/KVyPwvUo9D/NzMzMzMz0PzMzMzMzM9M/XI/C9Shc8z8K16NwPQrnP+xRuB6F6/k/exSuR+F6tD8pXI/C9SjkPwrXo3A9Cuc/SOF6FK5H0T8zMzMzMzPDPwrXo3A9Ctc/CtejcD0K5z9I4XoUrkfRPwrXo3A9Ctc/CtejcD0Kxz8K16NwPQrnPwrXo3A9Csc/zczMzMzM3D8K16NwPQrHPwAAAAAAANA/SOF6FK5H8T8K16NwPQrnP6RwPQrXo8A/zczMzMzM/D/NzMzMzMz8P+xRuB6F67E/KVyPwvUozD8K16NwPQrXPwrXo3A9Cuc/CtejcD0Kxz8pXI/C9Sj0P7gehetRuJ4/CtejcD0K9z/NzMzMzMzcP0jhehSuR/E/CtejcD0K9z97FK5H4Xq0P+xRuB6F68E/uB6F61G4rj+amZmZmZm5P0jhehSuR+E/SOF6FK5H0T9I4XoUrkfhP0jhehSuR9E/MzMzMzMz4z+4HoXrUbjOPwrXo3A9Cuc/CtejcD0K5z8AAAAAAADgPw==",
          "dtype": "f8"
         },
         "yaxis": "y5"
        },
        {
         "marker": {
          "color": "orange",
          "line": {
           "color": "black",
           "width": 0.5
          },
          "size": 6
         },
         "mode": "markers",
         "name": "Yield vs cultivated land: No",
         "type": "scatter",
         "x": {
          "bdata": "AAAAAAAA+D8AAAAAAAAIQAAAAAAAAOA/AAAAAAAA+D8AAAAAAADgPwAAAAAAAABAAAAAAAAAFEAAAAAAAAAIQEQ3gsiSoQBAAAAAAAAAFEAAAAAAAAD4PwAAAAAAAOA/AAAAAAAAAEAAAAAAAADwPwAAAAAAAPg/AAAAAAAA8D8AAAAAAADQPwAAAAAAAABAAAAAAAAA/D8AAAAAAAAIQAAAAAAAAPA/AAAAAAAA4D8AAAAAAADwPwAAAAAAAOA/AAAAAAAA0D8AAAAAAADQPwAAAAAAAOA/AAAAAAAAFEAAAAAAAADwPwAAAAAAAOg/AAAAAAAA8D8AAAAAAADwPw==",
          "dtype": "f8"
         },
         "xaxis": "x5",
         "y": {
          "bdata": "CtejcD0Kxz+4HoXrUbjOPwrXo3A9Ctc/4XoUrkfh2j8pXI/C9SjkPwrXo3A9Crc/FK5H4XoU3j8zMzMzMzPjP83MzMzMzOQ/mpmZmZmZqT8zMzMzMzPDP0jhehSuR9E/SOF6FK5H8T8K16NwPQrHP7gehetRuM4/CtejcD0Kxz/NzMzMzMz8Pylcj8L1KMw/PQrXo3A92j8zMzMzMzPDPwrXo3A9Ctc/SOF6FK5H4T/NzMzMzMzcP0jhehSuR+E/SOF6FK5H8T8K16NwPQrnPzMzMzMzM8M/16NwPQrX0z8K16NwPQq3PwAAAAAAAPA/CtejcD0Ktz97FK5H4XqUPw==",
          "dtype": "f8"
         },
         "yaxis": "y5"
        },
        {
         "marker": {
          "color": "lightblue",
          "line": {
           "color": "black",
           "width": 0.5
          },
          "size": 6
         },
         "mode": "markers",
         "name": "Yield vs org. fertilizer: Yes",
         "type": "scatter",
         "x": {
          "bdata": "AAAAAAAA+H8AAAAAAMCCQAAAAAAAwIJAAAAAAAAAiUAAAAAAAAD4fwAAAAAAMKFAAAAAAAAAmUAAAAAAAAD4fwAAAAAAAPh/AAAAAAAwoUAAAAAAAMCCQAAAAAAAwLdAAAAAAAAA+H8AAAAAAAD4fwAAAAAAwLJAAAAAAADAkkAAAAAAAAD4fwAAAAAAAIlAAAAAAAAAmUAAAAAAAAD4fwAAAAAAQKBAAAAAAACIk0AAAAAAAAB5QAAAAAAAAPh/AAAAAAAAiUAAAAAAAAD4fwAAAAAAAPh/AAAAAABAj0AAAAAAAAB5QAAAAAAAQJ9AAAAAAAAA+H8AAAAAAECvQAAAAAAAAPh/AAAAAAAAiUAAAAAAAAB5QAAAAAAAAPh/AAAAAAAA+H8AAAAAAAD4fwAAAAAAkJpAAAAAAAAA+H8AAAAAAACJQAAAAAAAsK1AAAAAAAAA+H8AAAAAAAD4fwAAAAAAAPh/AAAAAADAgkAAAAAAAAD4fwAAAAAAAPh/AAAAAAAASUAAAAAAAAD4fwAAAAAAAIlAAAAAAAAAiUAAAAAAAAD4fwAAAAAAAPh/AAAAAACAYUAAAAAAACCsQAAAAAAAULlAAAAAAAAA+H8AAAAAAOClQAAAAAAAAPh/AAAAAABAr0AAAAAAAECvQAAAAAAAADRAAAAAAAAgnEAAAAAAACSTQAAAAAAAsIhAAAAAAAAAiUAAAAAAAAD4fw==",
          "dtype": "f8"
         },
         "xaxis": "x6",
         "y": {
          "bdata": "SOF6FK5H0T+amZmZmZn1P+xRuB6F68E/KVyPwvUo9D/NzMzMzMz8PwrXo3A9Ctc/zczMzMzM7D97FK5H4Xq0P1K4HoXrUdg/hetRuB6F4z8pXI/C9SjMP0jhehSuR9E/mpmZmZmZyT+4HoXrUbi+P83MzMzMzNw/AAAAAAAA4D8K16NwPQq3PzMzMzMzM+M/KVyPwvUo9D/NzMzMzMz0PzMzMzMzM9M/XI/C9Shc8z8K16NwPQrnP+xRuB6F6/k/exSuR+F6tD8pXI/C9SjkPwrXo3A9Cuc/SOF6FK5H0T8zMzMzMzPDPwrXo3A9Ctc/CtejcD0K5z9I4XoUrkfRPwrXo3A9Ctc/CtejcD0Kxz8K16NwPQrnPwrXo3A9Csc/zczMzMzM3D8K16NwPQrHPwAAAAAAANA/SOF6FK5H8T8K16NwPQrnP6RwPQrXo8A/zczMzMzM/D/NzMzMzMz8P+xRuB6F67E/KVyPwvUozD8K16NwPQrXPwrXo3A9Cuc/CtejcD0Kxz8pXI/C9Sj0P7gehetRuJ4/CtejcD0K9z/NzMzMzMzcP0jhehSuR/E/CtejcD0K9z97FK5H4Xq0P+xRuB6F68E/uB6F61G4rj+amZmZmZm5P0jhehSuR+E/SOF6FK5H0T9I4XoUrkfhP0jhehSuR9E/MzMzMzMz4z+4HoXrUbjOPwrXo3A9Cuc/CtejcD0K5z8AAAAAAADgPw==",
          "dtype": "f8"
         },
         "yaxis": "y6"
        },
        {
         "marker": {
          "color": "orange",
          "line": {
           "color": "black",
           "width": 0.5
          },
          "size": 6
         },
         "mode": "markers",
         "name": "Yield vs org. fertilizer: No",
         "type": "scatter",
         "x": {
          "bdata": "AAAAAAAA+H8AAAAAAABJQAAAAAAAAI5AAAAAAAAA+H8AAAAAAAD4fwAAAAAAAPh/AAAAAABwp0AAAAAAAICGQAAAAAAAQK9AAAAAAADgsEAAAAAAAAD4fwAAAAAAwLJAAAAAAADAokAAAAAAAAD4fwAAAAAAmKxAAAAAAABAn0AAAAAAAAD4fwAAAAAAAPh/AAAAAAAA+H8AAAAAAACJQAAAAAAAAPh/AAAAAAAA+H8AAAAAAMCHQAAAAAAAwIJAAAAAAAAAqUAAAAAAAAD4fwAAAAAAAIlAAAAAAAAA+H8AAAAAAOClQAAAAAAAIKxAAAAAAADAokAAAAAAADChQA==",
          "dtype": "f8"
         },
         "xaxis": "x6",
         "y": {
          "bdata": "CtejcD0Kxz+4HoXrUbjOPwrXo3A9Ctc/4XoUrkfh2j8pXI/C9SjkPwrXo3A9Crc/FK5H4XoU3j8zMzMzMzPjP83MzMzMzOQ/mpmZmZmZqT8zMzMzMzPDP0jhehSuR9E/SOF6FK5H8T8K16NwPQrHP7gehetRuM4/CtejcD0Kxz/NzMzMzMz8Pylcj8L1KMw/PQrXo3A92j8zMzMzMzPDPwrXo3A9Ctc/SOF6FK5H4T/NzMzMzMzcP0jhehSuR+E/SOF6FK5H8T8K16NwPQrnPzMzMzMzM8M/16NwPQrX0z8K16NwPQq3PwAAAAAAAPA/CtejcD0Ktz97FK5H4XqUPw==",
          "dtype": "f8"
         },
         "yaxis": "y6"
        }
       ],
       "layout": {
        "annotations": [
         {
          "font": {
           "size": 16
          },
          "showarrow": false,
          "text": "Distribution of Education Levels",
          "x": 0.14444444444444446,
          "xanchor": "center",
          "xref": "paper",
          "y": 1,
          "yanchor": "bottom",
          "yref": "paper"
         },
         {
          "font": {
           "size": 16
          },
          "showarrow": false,
          "text": "Distribution of Household Size",
          "x": 0.5,
          "xanchor": "center",
          "xref": "paper",
          "y": 1,
          "yanchor": "bottom",
          "yref": "paper"
         },
         {
          "font": {
           "size": 16
          },
          "showarrow": false,
          "text": "Household Gender by Education",
          "x": 0.8555555555555556,
          "xanchor": "center",
          "xref": "paper",
          "y": 1,
          "yanchor": "bottom",
          "yref": "paper"
         },
         {
          "font": {
           "size": 16
          },
          "showarrow": false,
          "text": "Cultivated vs Total Land by Climate Info",
          "x": 0.14444444444444446,
          "xanchor": "center",
          "xref": "paper",
          "y": 0.375,
          "yanchor": "bottom",
          "yref": "paper"
         },
         {
          "font": {
           "size": 16
          },
          "showarrow": false,
          "text": "Yield vs Cultivated Land by Climate Info",
          "x": 0.5,
          "xanchor": "center",
          "xref": "paper",
          "y": 0.375,
          "yanchor": "bottom",
          "yref": "paper"
         },
         {
          "font": {
           "size": 16
          },
          "showarrow": false,
          "text": "Yield vs Organic Fertilizer by Climate Info",
          "x": 0.8555555555555556,
          "xanchor": "center",
          "xref": "paper",
          "y": 0.375,
          "yanchor": "bottom",
          "yref": "paper"
         }
        ],
        "height": 800,
        "legend": {
         "bgcolor": "rgba(255,255,255,0.8)",
         "bordercolor": "white",
         "borderwidth": 1,
         "x": 1.1,
         "xanchor": "left",
         "y": 0.3,
         "yanchor": "bottom"
        },
        "margin": {
         "r": 200
        },
        "paper_bgcolor": "white",
        "plot_bgcolor": "white",
        "template": {
         "data": {
          "bar": [
           {
            "error_x": {
             "color": "#2a3f5f"
            },
            "error_y": {
             "color": "#2a3f5f"
            },
            "marker": {
             "line": {
              "color": "#E5ECF6",
              "width": 0.5
             },
             "pattern": {
              "fillmode": "overlay",
              "size": 10,
              "solidity": 0.2
             }
            },
            "type": "bar"
           }
          ],
          "barpolar": [
           {
            "marker": {
             "line": {
              "color": "#E5ECF6",
              "width": 0.5
             },
             "pattern": {
              "fillmode": "overlay",
              "size": 10,
              "solidity": 0.2
             }
            },
            "type": "barpolar"
           }
          ],
          "carpet": [
           {
            "aaxis": {
             "endlinecolor": "#2a3f5f",
             "gridcolor": "white",
             "linecolor": "white",
             "minorgridcolor": "white",
             "startlinecolor": "#2a3f5f"
            },
            "baxis": {
             "endlinecolor": "#2a3f5f",
             "gridcolor": "white",
             "linecolor": "white",
             "minorgridcolor": "white",
             "startlinecolor": "#2a3f5f"
            },
            "type": "carpet"
           }
          ],
          "choropleth": [
           {
            "colorbar": {
             "outlinewidth": 0,
             "ticks": ""
            },
            "type": "choropleth"
           }
          ],
          "contour": [
           {
            "colorbar": {
             "outlinewidth": 0,
             "ticks": ""
            },
            "colorscale": [
             [
              0,
              "#0d0887"
             ],
             [
              0.1111111111111111,
              "#46039f"
             ],
             [
              0.2222222222222222,
              "#7201a8"
             ],
             [
              0.3333333333333333,
              "#9c179e"
             ],
             [
              0.4444444444444444,
              "#bd3786"
             ],
             [
              0.5555555555555556,
              "#d8576b"
             ],
             [
              0.6666666666666666,
              "#ed7953"
             ],
             [
              0.7777777777777778,
              "#fb9f3a"
             ],
             [
              0.8888888888888888,
              "#fdca26"
             ],
             [
              1,
              "#f0f921"
             ]
            ],
            "type": "contour"
           }
          ],
          "contourcarpet": [
           {
            "colorbar": {
             "outlinewidth": 0,
             "ticks": ""
            },
            "type": "contourcarpet"
           }
          ],
          "heatmap": [
           {
            "colorbar": {
             "outlinewidth": 0,
             "ticks": ""
            },
            "colorscale": [
             [
              0,
              "#0d0887"
             ],
             [
              0.1111111111111111,
              "#46039f"
             ],
             [
              0.2222222222222222,
              "#7201a8"
             ],
             [
              0.3333333333333333,
              "#9c179e"
             ],
             [
              0.4444444444444444,
              "#bd3786"
             ],
             [
              0.5555555555555556,
              "#d8576b"
             ],
             [
              0.6666666666666666,
              "#ed7953"
             ],
             [
              0.7777777777777778,
              "#fb9f3a"
             ],
             [
              0.8888888888888888,
              "#fdca26"
             ],
             [
              1,
              "#f0f921"
             ]
            ],
            "type": "heatmap"
           }
          ],
          "histogram": [
           {
            "marker": {
             "pattern": {
              "fillmode": "overlay",
              "size": 10,
              "solidity": 0.2
             }
            },
            "type": "histogram"
           }
          ],
          "histogram2d": [
           {
            "colorbar": {
             "outlinewidth": 0,
             "ticks": ""
            },
            "colorscale": [
             [
              0,
              "#0d0887"
             ],
             [
              0.1111111111111111,
              "#46039f"
             ],
             [
              0.2222222222222222,
              "#7201a8"
             ],
             [
              0.3333333333333333,
              "#9c179e"
             ],
             [
              0.4444444444444444,
              "#bd3786"
             ],
             [
              0.5555555555555556,
              "#d8576b"
             ],
             [
              0.6666666666666666,
              "#ed7953"
             ],
             [
              0.7777777777777778,
              "#fb9f3a"
             ],
             [
              0.8888888888888888,
              "#fdca26"
             ],
             [
              1,
              "#f0f921"
             ]
            ],
            "type": "histogram2d"
           }
          ],
          "histogram2dcontour": [
           {
            "colorbar": {
             "outlinewidth": 0,
             "ticks": ""
            },
            "colorscale": [
             [
              0,
              "#0d0887"
             ],
             [
              0.1111111111111111,
              "#46039f"
             ],
             [
              0.2222222222222222,
              "#7201a8"
             ],
             [
              0.3333333333333333,
              "#9c179e"
             ],
             [
              0.4444444444444444,
              "#bd3786"
             ],
             [
              0.5555555555555556,
              "#d8576b"
             ],
             [
              0.6666666666666666,
              "#ed7953"
             ],
             [
              0.7777777777777778,
              "#fb9f3a"
             ],
             [
              0.8888888888888888,
              "#fdca26"
             ],
             [
              1,
              "#f0f921"
             ]
            ],
            "type": "histogram2dcontour"
           }
          ],
          "mesh3d": [
           {
            "colorbar": {
             "outlinewidth": 0,
             "ticks": ""
            },
            "type": "mesh3d"
           }
          ],
          "parcoords": [
           {
            "line": {
             "colorbar": {
              "outlinewidth": 0,
              "ticks": ""
             }
            },
            "type": "parcoords"
           }
          ],
          "pie": [
           {
            "automargin": true,
            "type": "pie"
           }
          ],
          "scatter": [
           {
            "fillpattern": {
             "fillmode": "overlay",
             "size": 10,
             "solidity": 0.2
            },
            "type": "scatter"
           }
          ],
          "scatter3d": [
           {
            "line": {
             "colorbar": {
              "outlinewidth": 0,
              "ticks": ""
             }
            },
            "marker": {
             "colorbar": {
              "outlinewidth": 0,
              "ticks": ""
             }
            },
            "type": "scatter3d"
           }
          ],
          "scattercarpet": [
           {
            "marker": {
             "colorbar": {
              "outlinewidth": 0,
              "ticks": ""
             }
            },
            "type": "scattercarpet"
           }
          ],
          "scattergeo": [
           {
            "marker": {
             "colorbar": {
              "outlinewidth": 0,
              "ticks": ""
             }
            },
            "type": "scattergeo"
           }
          ],
          "scattergl": [
           {
            "marker": {
             "colorbar": {
              "outlinewidth": 0,
              "ticks": ""
             }
            },
            "type": "scattergl"
           }
          ],
          "scattermap": [
           {
            "marker": {
             "colorbar": {
              "outlinewidth": 0,
              "ticks": ""
             }
            },
            "type": "scattermap"
           }
          ],
          "scattermapbox": [
           {
            "marker": {
             "colorbar": {
              "outlinewidth": 0,
              "ticks": ""
             }
            },
            "type": "scattermapbox"
           }
          ],
          "scatterpolar": [
           {
            "marker": {
             "colorbar": {
              "outlinewidth": 0,
              "ticks": ""
             }
            },
            "type": "scatterpolar"
           }
          ],
          "scatterpolargl": [
           {
            "marker": {
             "colorbar": {
              "outlinewidth": 0,
              "ticks": ""
             }
            },
            "type": "scatterpolargl"
           }
          ],
          "scatterternary": [
           {
            "marker": {
             "colorbar": {
              "outlinewidth": 0,
              "ticks": ""
             }
            },
            "type": "scatterternary"
           }
          ],
          "surface": [
           {
            "colorbar": {
             "outlinewidth": 0,
             "ticks": ""
            },
            "colorscale": [
             [
              0,
              "#0d0887"
             ],
             [
              0.1111111111111111,
              "#46039f"
             ],
             [
              0.2222222222222222,
              "#7201a8"
             ],
             [
              0.3333333333333333,
              "#9c179e"
             ],
             [
              0.4444444444444444,
              "#bd3786"
             ],
             [
              0.5555555555555556,
              "#d8576b"
             ],
             [
              0.6666666666666666,
              "#ed7953"
             ],
             [
              0.7777777777777778,
              "#fb9f3a"
             ],
             [
              0.8888888888888888,
              "#fdca26"
             ],
             [
              1,
              "#f0f921"
             ]
            ],
            "type": "surface"
           }
          ],
          "table": [
           {
            "cells": {
             "fill": {
              "color": "#EBF0F8"
             },
             "line": {
              "color": "white"
             }
            },
            "header": {
             "fill": {
              "color": "#C8D4E3"
             },
             "line": {
              "color": "white"
             }
            },
            "type": "table"
           }
          ]
         },
         "layout": {
          "annotationdefaults": {
           "arrowcolor": "#2a3f5f",
           "arrowhead": 0,
           "arrowwidth": 1
          },
          "autotypenumbers": "strict",
          "coloraxis": {
           "colorbar": {
            "outlinewidth": 0,
            "ticks": ""
           }
          },
          "colorscale": {
           "diverging": [
            [
             0,
             "#8e0152"
            ],
            [
             0.1,
             "#c51b7d"
            ],
            [
             0.2,
             "#de77ae"
            ],
            [
             0.3,
             "#f1b6da"
            ],
            [
             0.4,
             "#fde0ef"
            ],
            [
             0.5,
             "#f7f7f7"
            ],
            [
             0.6,
             "#e6f5d0"
            ],
            [
             0.7,
             "#b8e186"
            ],
            [
             0.8,
             "#7fbc41"
            ],
            [
             0.9,
             "#4d9221"
            ],
            [
             1,
             "#276419"
            ]
           ],
           "sequential": [
            [
             0,
             "#0d0887"
            ],
            [
             0.1111111111111111,
             "#46039f"
            ],
            [
             0.2222222222222222,
             "#7201a8"
            ],
            [
             0.3333333333333333,
             "#9c179e"
            ],
            [
             0.4444444444444444,
             "#bd3786"
            ],
            [
             0.5555555555555556,
             "#d8576b"
            ],
            [
             0.6666666666666666,
             "#ed7953"
            ],
            [
             0.7777777777777778,
             "#fb9f3a"
            ],
            [
             0.8888888888888888,
             "#fdca26"
            ],
            [
             1,
             "#f0f921"
            ]
           ],
           "sequentialminus": [
            [
             0,
             "#0d0887"
            ],
            [
             0.1111111111111111,
             "#46039f"
            ],
            [
             0.2222222222222222,
             "#7201a8"
            ],
            [
             0.3333333333333333,
             "#9c179e"
            ],
            [
             0.4444444444444444,
             "#bd3786"
            ],
            [
             0.5555555555555556,
             "#d8576b"
            ],
            [
             0.6666666666666666,
             "#ed7953"
            ],
            [
             0.7777777777777778,
             "#fb9f3a"
            ],
            [
             0.8888888888888888,
             "#fdca26"
            ],
            [
             1,
             "#f0f921"
            ]
           ]
          },
          "colorway": [
           "#636efa",
           "#EF553B",
           "#00cc96",
           "#ab63fa",
           "#FFA15A",
           "#19d3f3",
           "#FF6692",
           "#B6E880",
           "#FF97FF",
           "#FECB52"
          ],
          "font": {
           "color": "#2a3f5f"
          },
          "geo": {
           "bgcolor": "white",
           "lakecolor": "white",
           "landcolor": "#E5ECF6",
           "showlakes": true,
           "showland": true,
           "subunitcolor": "white"
          },
          "hoverlabel": {
           "align": "left"
          },
          "hovermode": "closest",
          "mapbox": {
           "style": "light"
          },
          "paper_bgcolor": "white",
          "plot_bgcolor": "#E5ECF6",
          "polar": {
           "angularaxis": {
            "gridcolor": "white",
            "linecolor": "white",
            "ticks": ""
           },
           "bgcolor": "#E5ECF6",
           "radialaxis": {
            "gridcolor": "white",
            "linecolor": "white",
            "ticks": ""
           }
          },
          "scene": {
           "xaxis": {
            "backgroundcolor": "#E5ECF6",
            "gridcolor": "white",
            "gridwidth": 2,
            "linecolor": "white",
            "showbackground": true,
            "ticks": "",
            "zerolinecolor": "white"
           },
           "yaxis": {
            "backgroundcolor": "#E5ECF6",
            "gridcolor": "white",
            "gridwidth": 2,
            "linecolor": "white",
            "showbackground": true,
            "ticks": "",
            "zerolinecolor": "white"
           },
           "zaxis": {
            "backgroundcolor": "#E5ECF6",
            "gridcolor": "white",
            "gridwidth": 2,
            "linecolor": "white",
            "showbackground": true,
            "ticks": "",
            "zerolinecolor": "white"
           }
          },
          "shapedefaults": {
           "line": {
            "color": "#2a3f5f"
           }
          },
          "ternary": {
           "aaxis": {
            "gridcolor": "white",
            "linecolor": "white",
            "ticks": ""
           },
           "baxis": {
            "gridcolor": "white",
            "linecolor": "white",
            "ticks": ""
           },
           "bgcolor": "#E5ECF6",
           "caxis": {
            "gridcolor": "white",
            "linecolor": "white",
            "ticks": ""
           }
          },
          "title": {
           "x": 0.05
          },
          "xaxis": {
           "automargin": true,
           "gridcolor": "white",
           "linecolor": "white",
           "ticks": "",
           "title": {
            "standoff": 15
           },
           "zerolinecolor": "white",
           "zerolinewidth": 2
          },
          "yaxis": {
           "automargin": true,
           "gridcolor": "white",
           "linecolor": "white",
           "ticks": "",
           "title": {
            "standoff": 15
           },
           "zerolinecolor": "white",
           "zerolinewidth": 2
          }
         }
        },
        "title": {
         "text": "Socioeconomic and Agricultural Data Overview"
        },
        "width": 1400,
        "xaxis": {
         "anchor": "y",
         "domain": [
          0,
          0.2888888888888889
         ],
         "linecolor": "black",
         "mirror": true,
         "showline": true,
         "title": {
          "text": "Education Level"
         }
        },
        "xaxis2": {
         "anchor": "y2",
         "domain": [
          0.35555555555555557,
          0.6444444444444445
         ],
         "linecolor": "black",
         "mirror": true,
         "showline": true,
         "title": {
          "text": "Household Size"
         }
        },
        "xaxis3": {
         "anchor": "y3",
         "domain": [
          0.7111111111111111,
          1
         ],
         "linecolor": "black",
         "mirror": true,
         "showline": true,
         "title": {
          "text": "Education Level"
         }
        },
        "xaxis4": {
         "anchor": "y4",
         "domain": [
          0,
          0.2888888888888889
         ],
         "linecolor": "black",
         "mirror": true,
         "showline": true,
         "title": {
          "text": "Total Land Acres"
         }
        },
        "xaxis5": {
         "anchor": "y5",
         "domain": [
          0.35555555555555557,
          0.6444444444444445
         ],
         "linecolor": "black",
         "mirror": true,
         "showline": true,
         "title": {
          "text": "Cultivated Land Acres"
         }
        },
        "xaxis6": {
         "anchor": "y6",
         "domain": [
          0.7111111111111111,
          1
         ],
         "linecolor": "black",
         "mirror": true,
         "showline": true,
         "title": {
          "text": "Organic Fertilizer (Kg)"
         }
        },
        "yaxis": {
         "anchor": "x",
         "domain": [
          0.625,
          1
         ],
         "linecolor": "black",
         "mirror": true,
         "showline": true,
         "title": {
          "text": "Number of Households"
         }
        },
        "yaxis2": {
         "anchor": "x2",
         "domain": [
          0.625,
          1
         ],
         "linecolor": "black",
         "mirror": true,
         "showline": true,
         "title": {
          "text": "Frequency"
         }
        },
        "yaxis3": {
         "anchor": "x3",
         "domain": [
          0.625,
          1
         ],
         "linecolor": "black",
         "mirror": true,
         "showline": true,
         "title": {
          "text": "Number of Households"
         }
        },
        "yaxis4": {
         "anchor": "x4",
         "domain": [
          0,
          0.375
         ],
         "linecolor": "black",
         "mirror": true,
         "showline": true,
         "title": {
          "text": "Cultivated Land Acres"
         }
        },
        "yaxis5": {
         "anchor": "x5",
         "domain": [
          0,
          0.375
         ],
         "linecolor": "black",
         "mirror": true,
         "showline": true,
         "title": {
          "text": "Maize Yield (Ton/Acre)"
         }
        },
        "yaxis6": {
         "anchor": "x6",
         "domain": [
          0,
          0.375
         ],
         "linecolor": "black",
         "mirror": true,
         "showline": true,
         "title": {
          "text": "Maize Yield (Ton/Acre)"
         }
        }
       }
      }
     },
     "metadata": {},
     "output_type": "display_data"
    }
   ],
   "source": [
    "\n",
    "# ---- Education Order ----\n",
    "education_order = [\n",
    "    'Primary',\n",
    "    'Secondary',\n",
    "    'Undergraduate degree',\n",
    "    'Diploma',\n",
    "    'Certificate',\n",
    "    'Postgraduate degree'\n",
    "]\n",
    "\n",
    "merged['Household Head Education'] = pd.Categorical(\n",
    "    merged['Household Head Education'],\n",
    "    categories=education_order,\n",
    "    ordered=True\n",
    ")\n",
    "\n",
    "# ---- Custom color mapping ----\n",
    "climate_color_map = {'Yes': 'lightblue', 'No': 'orange'}\n",
    "gender_color_map = {'Male': 'steelblue', 'Female': 'orange'}\n",
    "\n",
    "# ---- Create Subplot Layout (2 rows × 3 cols) ----\n",
    "fig = make_subplots(\n",
    "    rows=2, cols=3,\n",
    "    subplot_titles=[\n",
    "        \"Distribution of Education Levels\",\n",
    "        \"Distribution of Household Size\",\n",
    "        \"Household Gender by Education\",\n",
    "        \"Cultivated vs Total Land by Climate Info\",\n",
    "        \"Yield vs Cultivated Land by Climate Info\",\n",
    "        \"Yield vs Organic Fertilizer by Climate Info\"\n",
    "    ]\n",
    ")\n",
    "\n",
    "# ================= ROW 1 =================\n",
    "\n",
    "# Col 1: Distribution of Education Levels\n",
    "edu_counts = merged['Household Head Education'].value_counts().reindex(education_order)\n",
    "fig.add_trace(\n",
    "    go.Bar(\n",
    "        x=edu_counts.index,\n",
    "        y=edu_counts.values,\n",
    "        marker=dict(color='navajowhite', line=dict(width=1, color='black')),\n",
    "        name=\"Education Levels\"\n",
    "    ),\n",
    "    row=1, col=1\n",
    ")\n",
    "\n",
    "# Col 2: Distribution of Household Size\n",
    "fig.add_trace(\n",
    "    go.Histogram(\n",
    "        x=merged['Household Size'],\n",
    "        marker=dict(color='navajowhite', line=dict(width=1, color='black')),\n",
    "        name=\"Household Size\"\n",
    "    ),\n",
    "    row=1, col=2\n",
    ")\n",
    "\n",
    "# Col 3: Household Gender by Education\n",
    "gender_counts = merged.groupby(\n",
    "    ['Household Head Education', 'Household Head Gender']\n",
    ").size().reset_index(name='Count')\n",
    "\n",
    "for gender in gender_counts['Household Head Gender'].unique():\n",
    "    subset = gender_counts[gender_counts['Household Head Gender'] == gender]\n",
    "    fig.add_trace(\n",
    "        go.Bar(\n",
    "            x=subset['Household Head Education'],\n",
    "            y=subset['Count'],\n",
    "            name=gender,\n",
    "            marker=dict(color=gender_color_map.get(gender, 'gray'),\n",
    "                        line=dict(width=0.5, color='black'))\n",
    "        ),\n",
    "        row=1, col=3\n",
    "    )\n",
    "\n",
    "# ================= ROW 2 =================\n",
    "\n",
    "# Col 1: Cultivated vs Total Land\n",
    "for val in merged['Climate Info Received Standardized'].unique():\n",
    "    subset = merged[merged['Climate Info Received Standardized'] == val]\n",
    "    fig.add_trace(\n",
    "        go.Scatter(\n",
    "            x=subset['Total Land Acres'],\n",
    "            y=subset['Cultivated Land Acres'],\n",
    "            mode='markers',\n",
    "            name=f\"Cultivated land vs total land: {val}\",\n",
    "            marker=dict(color=climate_color_map.get(val, 'gray'),\n",
    "                        size=6,\n",
    "                        line=dict(width=0.5, color='black'))\n",
    "        ),\n",
    "        row=2, col=1\n",
    "    )\n",
    "\n",
    "# Col 2: Yield vs Cultivated Land\n",
    "for val in merged['Climate Info Received Standardized'].unique():\n",
    "    subset = merged[merged['Climate Info Received Standardized'] == val]\n",
    "    fig.add_trace(\n",
    "        go.Scatter(\n",
    "            x=subset['Cultivated Land Acres'],\n",
    "            y=subset['Maize Yield (Ton/Acre)'],\n",
    "            mode='markers',\n",
    "            name=f\"Yield vs cultivated land: {val}\",\n",
    "            marker=dict(color=climate_color_map.get(val, 'gray'),\n",
    "                        size=6,\n",
    "                        line=dict(width=0.5, color='black'))\n",
    "        ),\n",
    "        row=2, col=2\n",
    "    )\n",
    "\n",
    "# Col 3: Yield vs Organic Fertilizer\n",
    "for val in merged['Climate Info Received Standardized'].unique():\n",
    "    subset = merged[merged['Climate Info Received Standardized'] == val]\n",
    "    fig.add_trace(\n",
    "        go.Scatter(\n",
    "            x=subset['Total Organic Fertilizer (Kg) 2024'],\n",
    "            y=subset['Maize Yield (Ton/Acre)'],\n",
    "            mode='markers',\n",
    "            name=f\"Yield vs org. fertilizer: {val}\",\n",
    "            marker=dict(color=climate_color_map.get(val, 'gray'),\n",
    "                        size=6,\n",
    "                        line=dict(width=0.5, color='black'))\n",
    "        ),\n",
    "        row=2, col=3\n",
    "    )\n",
    "\n",
    "# ================= LAYOUT SETTINGS =================\n",
    "fig.update_layout(\n",
    "    plot_bgcolor='white',\n",
    "    paper_bgcolor='white',\n",
    "    title=\"Socioeconomic and Agricultural Data Overview\",\n",
    "    height=800, width=1400,\n",
    "   legend=dict(\n",
    "        x=1.1,        # slightly outside the right edge\n",
    "        y=0.3,           # bottom\n",
    "        xanchor='left',  # align legend's left side to x\n",
    "        yanchor='bottom',\n",
    "        bgcolor='rgba(255,255,255,0.8)',  # optional semi-transparent background\n",
    "        bordercolor='white',\n",
    "        borderwidth=1\n",
    "    ),\n",
    "    margin=dict(r=200)\n",
    ")\n",
    "\n",
    "# Axis labels\n",
    "fig.update_xaxes(title_text=\"Education Level\", row=1, col=1)\n",
    "fig.update_yaxes(title_text=\"Number of Households\", row=1, col=1)\n",
    "\n",
    "fig.update_xaxes(title_text=\"Household Size\", row=1, col=2)\n",
    "fig.update_yaxes(title_text=\"Frequency\", row=1, col=2)\n",
    "\n",
    "fig.update_xaxes(title_text=\"Education Level\", row=1, col=3)\n",
    "fig.update_yaxes(title_text=\"Number of Households\", row=1, col=3)\n",
    "\n",
    "fig.update_xaxes(title_text=\"Total Land Acres\", row=2, col=1)\n",
    "fig.update_yaxes(title_text=\"Cultivated Land Acres\", row=2, col=1)\n",
    "\n",
    "fig.update_xaxes(title_text=\"Cultivated Land Acres\", row=2, col=2)\n",
    "fig.update_yaxes(title_text=\"Maize Yield (Ton/Acre)\", row=2, col=2)\n",
    "\n",
    "fig.update_xaxes(title_text=\"Organic Fertilizer (Kg)\", row=2, col=3)\n",
    "fig.update_yaxes(title_text=\"Maize Yield (Ton/Acre)\", row=2, col=3)\n",
    "\n",
    "# Black axis lines\n",
    "fig.update_xaxes(showline=True, linecolor='black', mirror=True)\n",
    "fig.update_yaxes(showline=True, linecolor='black', mirror=True)\n",
    "\n",
    "fig.show()\n",
    "\n"
   ]
  },
  {
   "cell_type": "markdown",
   "id": "d5864d0f",
   "metadata": {},
   "source": [
    "The figure below illustrates the distribution of maize yield (tons per acre) across households, grouped by the education level of the household head. Each point represents a household, with colors indicating whether climate information and agricultural advisory was received (“Yes” in light blue, “No” in orange). This visualization highlights how maize productivity varies with education and access to advisory services."
   ]
  },
  {
   "cell_type": "code",
   "execution_count": 37,
   "id": "fb367a20",
   "metadata": {},
   "outputs": [
    {
     "data": {
      "application/vnd.plotly.v1+json": {
       "config": {
        "plotlyServerURL": "https://plot.ly"
       },
       "data": [
        {
         "alignmentgroup": "True",
         "customdata": {
          "bdata": "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",
          "dtype": "f8",
          "shape": "68, 3"
         },
         "hovertemplate": "Climate Info Received Standardized=Yes<br>Household Head Education=%{x}<br>Maize Yield (Ton/Acre)=%{y}<br>Household ID=%{customdata[0]}<br>Total Land Acres=%{customdata[1]}<br>Cultivated Land Acres=%{customdata[2]}<extra></extra>",
         "legendgroup": "Yes",
         "marker": {
          "color": "lightblue"
         },
         "name": "Yes",
         "notched": false,
         "offsetgroup": "Yes",
         "orientation": "v",
         "showlegend": true,
         "type": "box",
         "x": [
          "Primary",
          "Secondary",
          "Diploma",
          "Certificate",
          "Certificate",
          "Postgraduate degree",
          "Secondary",
          "Certificate",
          "Certificate",
          "Primary",
          "Certificate",
          "Secondary",
          "Primary",
          "Undergraduate degree",
          "Primary",
          "Secondary",
          "Secondary",
          "Secondary",
          "Certificate",
          "Secondary",
          "Primary",
          "Secondary",
          "Primary",
          "Undergraduate degree",
          "Primary",
          "Secondary",
          "Secondary",
          "Secondary",
          "Undergraduate degree",
          "Diploma",
          "Certificate",
          "Undergraduate degree",
          "Certificate",
          "Certificate",
          "Secondary",
          "Diploma",
          "Secondary",
          "Primary",
          "Certificate",
          "Undergraduate degree",
          "Primary",
          "Secondary",
          "Secondary",
          "Certificate",
          "Primary",
          "Certificate",
          "Diploma",
          "Secondary",
          "Undergraduate degree",
          "Certificate",
          "Undergraduate degree",
          "Diploma",
          "Undergraduate degree",
          "Primary",
          "Certificate",
          "Diploma",
          "Secondary",
          "Secondary",
          "Primary",
          "Diploma",
          "Certificate",
          "Certificate",
          "Secondary",
          "Secondary",
          "Secondary",
          "Secondary",
          "Primary",
          "Secondary"
         ],
         "x0": " ",
         "xaxis": "x",
         "y": {
          "bdata": "SOF6FK5H0T+amZmZmZn1P+xRuB6F68E/KVyPwvUo9D/NzMzMzMz8PwrXo3A9Ctc/zczMzMzM7D97FK5H4Xq0P1K4HoXrUdg/hetRuB6F4z8pXI/C9SjMP0jhehSuR9E/mpmZmZmZyT+4HoXrUbi+P83MzMzMzNw/AAAAAAAA4D8K16NwPQq3PzMzMzMzM+M/KVyPwvUo9D/NzMzMzMz0PzMzMzMzM9M/XI/C9Shc8z8K16NwPQrnP+xRuB6F6/k/exSuR+F6tD8pXI/C9SjkPwrXo3A9Cuc/SOF6FK5H0T8zMzMzMzPDPwrXo3A9Ctc/CtejcD0K5z9I4XoUrkfRPwrXo3A9Ctc/CtejcD0Kxz8K16NwPQrnPwrXo3A9Csc/zczMzMzM3D8K16NwPQrHPwAAAAAAANA/SOF6FK5H8T8K16NwPQrnP6RwPQrXo8A/zczMzMzM/D/NzMzMzMz8P+xRuB6F67E/KVyPwvUozD8K16NwPQrXPwrXo3A9Cuc/CtejcD0Kxz8pXI/C9Sj0P7gehetRuJ4/CtejcD0K9z/NzMzMzMzcP0jhehSuR/E/CtejcD0K9z97FK5H4Xq0P+xRuB6F68E/uB6F61G4rj+amZmZmZm5P0jhehSuR+E/SOF6FK5H0T9I4XoUrkfhP0jhehSuR9E/MzMzMzMz4z+4HoXrUbjOPwrXo3A9Cuc/CtejcD0K5z8AAAAAAADgPw==",
          "dtype": "f8"
         },
         "y0": " ",
         "yaxis": "y"
        },
        {
         "alignmentgroup": "True",
         "customdata": {
          "bdata": "AAAAAADgd0AAAAAAAAD4PwAAAAAAAPg/AAAAAACwc0AAAAAAAAAIQAAAAAAAAAhAAAAAAACQckAAAAAAAADgPwAAAAAAAOA/AAAAAACAcUAAAAAAAAD4PwAAAAAAAPg/AAAAAADgcEAAAAAAAAAAQAAAAAAAAOA/AAAAAABgcEAAAAAAAAAIQAAAAAAAAABAAAAAAAAAcEAAAAAAAAAcQAAAAAAAABRAAAAAAACAbkAAAAAAAAAUQAAAAAAAAAhAAAAAAAAgbkAAAAAAAAAIQEQ3gsiSoQBAAAAAAACAaUAAAAAAAAAgQAAAAAAAABRAAAAAAABgaUAAAAAAAAD4PwAAAAAAAPg/AAAAAADgaEAAAAAAAADoPwAAAAAAAOA/AAAAAABgaEAAAAAAAAAEQAAAAAAAAABAAAAAAABgZ0AAAAAAAAD4PwAAAAAAAPA/AAAAAACgZkAAAAAAAAD4PwAAAAAAAPg/AAAAAAAAZkAAAAAAAADwPwAAAAAAAPA/AAAAAAAAZEAAAAAAAADQPwAAAAAAANA/AAAAAABAYkAAAAAAAAAEQAAAAAAAAABAAAAAAADAX0AAAAAAAAD8PwAAAAAAAPw/AAAAAADAXUAAAAAAAAAUQAAAAAAAAAhAAAAAAABAWUAAAAAAAADwPwAAAAAAAPA/AAAAAADAV0AAAAAAAADwPwAAAAAAAOA/AAAAAACAVkAAAAAAAADwPwAAAAAAAPA/AAAAAAAAVEAAAAAAAADgPwAAAAAAAOA/AAAAAABAU0AAAAAAAADQPwAAAAAAANA/AAAAAADAUkAAAAAAAADgPwAAAAAAANA/AAAAAAAATEAAAAAAAADwPwAAAAAAAOA/AAAAAAAASEAAAAAAAAAWQAAAAAAAABRAAAAAAAAAQ0AAAAAAAAD0PwAAAAAAAPA/AAAAAAAAO0AAAAAAAADwPwAAAAAAAOg/AAAAAAAALkAAAAAAAAD4PwAAAAAAAPA/AAAAAAAALEAAAAAAAADwPwAAAAAAAPA/",
          "dtype": "f8",
          "shape": "32, 3"
         },
         "hovertemplate": "Climate Info Received Standardized=No<br>Household Head Education=%{x}<br>Maize Yield (Ton/Acre)=%{y}<br>Household ID=%{customdata[0]}<br>Total Land Acres=%{customdata[1]}<br>Cultivated Land Acres=%{customdata[2]}<extra></extra>",
         "legendgroup": "No",
         "marker": {
          "color": "orange"
         },
         "name": "No",
         "notched": false,
         "offsetgroup": "No",
         "orientation": "v",
         "showlegend": true,
         "type": "box",
         "x": [
          "Secondary",
          "Secondary",
          "Secondary",
          "Secondary",
          "Diploma",
          "Secondary",
          "Undergraduate degree",
          "Diploma",
          "Diploma",
          "Undergraduate degree",
          "Secondary",
          "Diploma",
          "Certificate",
          "Diploma",
          "Undergraduate degree",
          "Primary",
          "Secondary",
          "Primary",
          "Secondary",
          "Diploma",
          "Secondary",
          "Secondary",
          "Primary",
          "Undergraduate degree",
          "Primary",
          "Diploma",
          "Secondary",
          "Diploma",
          "Diploma",
          "Secondary",
          "Secondary",
          "Diploma"
         ],
         "x0": " ",
         "xaxis": "x",
         "y": {
          "bdata": "CtejcD0Kxz+4HoXrUbjOPwrXo3A9Ctc/4XoUrkfh2j8pXI/C9SjkPwrXo3A9Crc/FK5H4XoU3j8zMzMzMzPjP83MzMzMzOQ/mpmZmZmZqT8zMzMzMzPDP0jhehSuR9E/SOF6FK5H8T8K16NwPQrHP7gehetRuM4/CtejcD0Kxz/NzMzMzMz8Pylcj8L1KMw/PQrXo3A92j8zMzMzMzPDPwrXo3A9Ctc/SOF6FK5H4T/NzMzMzMzcP0jhehSuR+E/SOF6FK5H8T8K16NwPQrnPzMzMzMzM8M/16NwPQrX0z8K16NwPQq3PwAAAAAAAPA/CtejcD0Ktz97FK5H4XqUPw==",
          "dtype": "f8"
         },
         "y0": " ",
         "yaxis": "y"
        }
       ],
       "layout": {
        "boxmode": "group",
        "height": 400,
        "legend": {
         "title": {
          "text": "Climate Info Received"
         },
         "tracegroupgap": 0
        },
        "margin": {
         "t": 60
        },
        "plot_bgcolor": "white",
        "template": {
         "data": {
          "bar": [
           {
            "error_x": {
             "color": "#2a3f5f"
            },
            "error_y": {
             "color": "#2a3f5f"
            },
            "marker": {
             "line": {
              "color": "#E5ECF6",
              "width": 0.5
             },
             "pattern": {
              "fillmode": "overlay",
              "size": 10,
              "solidity": 0.2
             }
            },
            "type": "bar"
           }
          ],
          "barpolar": [
           {
            "marker": {
             "line": {
              "color": "#E5ECF6",
              "width": 0.5
             },
             "pattern": {
              "fillmode": "overlay",
              "size": 10,
              "solidity": 0.2
             }
            },
            "type": "barpolar"
           }
          ],
          "carpet": [
           {
            "aaxis": {
             "endlinecolor": "#2a3f5f",
             "gridcolor": "white",
             "linecolor": "white",
             "minorgridcolor": "white",
             "startlinecolor": "#2a3f5f"
            },
            "baxis": {
             "endlinecolor": "#2a3f5f",
             "gridcolor": "white",
             "linecolor": "white",
             "minorgridcolor": "white",
             "startlinecolor": "#2a3f5f"
            },
            "type": "carpet"
           }
          ],
          "choropleth": [
           {
            "colorbar": {
             "outlinewidth": 0,
             "ticks": ""
            },
            "type": "choropleth"
           }
          ],
          "contour": [
           {
            "colorbar": {
             "outlinewidth": 0,
             "ticks": ""
            },
            "colorscale": [
             [
              0,
              "#0d0887"
             ],
             [
              0.1111111111111111,
              "#46039f"
             ],
             [
              0.2222222222222222,
              "#7201a8"
             ],
             [
              0.3333333333333333,
              "#9c179e"
             ],
             [
              0.4444444444444444,
              "#bd3786"
             ],
             [
              0.5555555555555556,
              "#d8576b"
             ],
             [
              0.6666666666666666,
              "#ed7953"
             ],
             [
              0.7777777777777778,
              "#fb9f3a"
             ],
             [
              0.8888888888888888,
              "#fdca26"
             ],
             [
              1,
              "#f0f921"
             ]
            ],
            "type": "contour"
           }
          ],
          "contourcarpet": [
           {
            "colorbar": {
             "outlinewidth": 0,
             "ticks": ""
            },
            "type": "contourcarpet"
           }
          ],
          "heatmap": [
           {
            "colorbar": {
             "outlinewidth": 0,
             "ticks": ""
            },
            "colorscale": [
             [
              0,
              "#0d0887"
             ],
             [
              0.1111111111111111,
              "#46039f"
             ],
             [
              0.2222222222222222,
              "#7201a8"
             ],
             [
              0.3333333333333333,
              "#9c179e"
             ],
             [
              0.4444444444444444,
              "#bd3786"
             ],
             [
              0.5555555555555556,
              "#d8576b"
             ],
             [
              0.6666666666666666,
              "#ed7953"
             ],
             [
              0.7777777777777778,
              "#fb9f3a"
             ],
             [
              0.8888888888888888,
              "#fdca26"
             ],
             [
              1,
              "#f0f921"
             ]
            ],
            "type": "heatmap"
           }
          ],
          "histogram": [
           {
            "marker": {
             "pattern": {
              "fillmode": "overlay",
              "size": 10,
              "solidity": 0.2
             }
            },
            "type": "histogram"
           }
          ],
          "histogram2d": [
           {
            "colorbar": {
             "outlinewidth": 0,
             "ticks": ""
            },
            "colorscale": [
             [
              0,
              "#0d0887"
             ],
             [
              0.1111111111111111,
              "#46039f"
             ],
             [
              0.2222222222222222,
              "#7201a8"
             ],
             [
              0.3333333333333333,
              "#9c179e"
             ],
             [
              0.4444444444444444,
              "#bd3786"
             ],
             [
              0.5555555555555556,
              "#d8576b"
             ],
             [
              0.6666666666666666,
              "#ed7953"
             ],
             [
              0.7777777777777778,
              "#fb9f3a"
             ],
             [
              0.8888888888888888,
              "#fdca26"
             ],
             [
              1,
              "#f0f921"
             ]
            ],
            "type": "histogram2d"
           }
          ],
          "histogram2dcontour": [
           {
            "colorbar": {
             "outlinewidth": 0,
             "ticks": ""
            },
            "colorscale": [
             [
              0,
              "#0d0887"
             ],
             [
              0.1111111111111111,
              "#46039f"
             ],
             [
              0.2222222222222222,
              "#7201a8"
             ],
             [
              0.3333333333333333,
              "#9c179e"
             ],
             [
              0.4444444444444444,
              "#bd3786"
             ],
             [
              0.5555555555555556,
              "#d8576b"
             ],
             [
              0.6666666666666666,
              "#ed7953"
             ],
             [
              0.7777777777777778,
              "#fb9f3a"
             ],
             [
              0.8888888888888888,
              "#fdca26"
             ],
             [
              1,
              "#f0f921"
             ]
            ],
            "type": "histogram2dcontour"
           }
          ],
          "mesh3d": [
           {
            "colorbar": {
             "outlinewidth": 0,
             "ticks": ""
            },
            "type": "mesh3d"
           }
          ],
          "parcoords": [
           {
            "line": {
             "colorbar": {
              "outlinewidth": 0,
              "ticks": ""
             }
            },
            "type": "parcoords"
           }
          ],
          "pie": [
           {
            "automargin": true,
            "type": "pie"
           }
          ],
          "scatter": [
           {
            "fillpattern": {
             "fillmode": "overlay",
             "size": 10,
             "solidity": 0.2
            },
            "type": "scatter"
           }
          ],
          "scatter3d": [
           {
            "line": {
             "colorbar": {
              "outlinewidth": 0,
              "ticks": ""
             }
            },
            "marker": {
             "colorbar": {
              "outlinewidth": 0,
              "ticks": ""
             }
            },
            "type": "scatter3d"
           }
          ],
          "scattercarpet": [
           {
            "marker": {
             "colorbar": {
              "outlinewidth": 0,
              "ticks": ""
             }
            },
            "type": "scattercarpet"
           }
          ],
          "scattergeo": [
           {
            "marker": {
             "colorbar": {
              "outlinewidth": 0,
              "ticks": ""
             }
            },
            "type": "scattergeo"
           }
          ],
          "scattergl": [
           {
            "marker": {
             "colorbar": {
              "outlinewidth": 0,
              "ticks": ""
             }
            },
            "type": "scattergl"
           }
          ],
          "scattermap": [
           {
            "marker": {
             "colorbar": {
              "outlinewidth": 0,
              "ticks": ""
             }
            },
            "type": "scattermap"
           }
          ],
          "scattermapbox": [
           {
            "marker": {
             "colorbar": {
              "outlinewidth": 0,
              "ticks": ""
             }
            },
            "type": "scattermapbox"
           }
          ],
          "scatterpolar": [
           {
            "marker": {
             "colorbar": {
              "outlinewidth": 0,
              "ticks": ""
             }
            },
            "type": "scatterpolar"
           }
          ],
          "scatterpolargl": [
           {
            "marker": {
             "colorbar": {
              "outlinewidth": 0,
              "ticks": ""
             }
            },
            "type": "scatterpolargl"
           }
          ],
          "scatterternary": [
           {
            "marker": {
             "colorbar": {
              "outlinewidth": 0,
              "ticks": ""
             }
            },
            "type": "scatterternary"
           }
          ],
          "surface": [
           {
            "colorbar": {
             "outlinewidth": 0,
             "ticks": ""
            },
            "colorscale": [
             [
              0,
              "#0d0887"
             ],
             [
              0.1111111111111111,
              "#46039f"
             ],
             [
              0.2222222222222222,
              "#7201a8"
             ],
             [
              0.3333333333333333,
              "#9c179e"
             ],
             [
              0.4444444444444444,
              "#bd3786"
             ],
             [
              0.5555555555555556,
              "#d8576b"
             ],
             [
              0.6666666666666666,
              "#ed7953"
             ],
             [
              0.7777777777777778,
              "#fb9f3a"
             ],
             [
              0.8888888888888888,
              "#fdca26"
             ],
             [
              1,
              "#f0f921"
             ]
            ],
            "type": "surface"
           }
          ],
          "table": [
           {
            "cells": {
             "fill": {
              "color": "#EBF0F8"
             },
             "line": {
              "color": "white"
             }
            },
            "header": {
             "fill": {
              "color": "#C8D4E3"
             },
             "line": {
              "color": "white"
             }
            },
            "type": "table"
           }
          ]
         },
         "layout": {
          "annotationdefaults": {
           "arrowcolor": "#2a3f5f",
           "arrowhead": 0,
           "arrowwidth": 1
          },
          "autotypenumbers": "strict",
          "coloraxis": {
           "colorbar": {
            "outlinewidth": 0,
            "ticks": ""
           }
          },
          "colorscale": {
           "diverging": [
            [
             0,
             "#8e0152"
            ],
            [
             0.1,
             "#c51b7d"
            ],
            [
             0.2,
             "#de77ae"
            ],
            [
             0.3,
             "#f1b6da"
            ],
            [
             0.4,
             "#fde0ef"
            ],
            [
             0.5,
             "#f7f7f7"
            ],
            [
             0.6,
             "#e6f5d0"
            ],
            [
             0.7,
             "#b8e186"
            ],
            [
             0.8,
             "#7fbc41"
            ],
            [
             0.9,
             "#4d9221"
            ],
            [
             1,
             "#276419"
            ]
           ],
           "sequential": [
            [
             0,
             "#0d0887"
            ],
            [
             0.1111111111111111,
             "#46039f"
            ],
            [
             0.2222222222222222,
             "#7201a8"
            ],
            [
             0.3333333333333333,
             "#9c179e"
            ],
            [
             0.4444444444444444,
             "#bd3786"
            ],
            [
             0.5555555555555556,
             "#d8576b"
            ],
            [
             0.6666666666666666,
             "#ed7953"
            ],
            [
             0.7777777777777778,
             "#fb9f3a"
            ],
            [
             0.8888888888888888,
             "#fdca26"
            ],
            [
             1,
             "#f0f921"
            ]
           ],
           "sequentialminus": [
            [
             0,
             "#0d0887"
            ],
            [
             0.1111111111111111,
             "#46039f"
            ],
            [
             0.2222222222222222,
             "#7201a8"
            ],
            [
             0.3333333333333333,
             "#9c179e"
            ],
            [
             0.4444444444444444,
             "#bd3786"
            ],
            [
             0.5555555555555556,
             "#d8576b"
            ],
            [
             0.6666666666666666,
             "#ed7953"
            ],
            [
             0.7777777777777778,
             "#fb9f3a"
            ],
            [
             0.8888888888888888,
             "#fdca26"
            ],
            [
             1,
             "#f0f921"
            ]
           ]
          },
          "colorway": [
           "#636efa",
           "#EF553B",
           "#00cc96",
           "#ab63fa",
           "#FFA15A",
           "#19d3f3",
           "#FF6692",
           "#B6E880",
           "#FF97FF",
           "#FECB52"
          ],
          "font": {
           "color": "#2a3f5f"
          },
          "geo": {
           "bgcolor": "white",
           "lakecolor": "white",
           "landcolor": "#E5ECF6",
           "showlakes": true,
           "showland": true,
           "subunitcolor": "white"
          },
          "hoverlabel": {
           "align": "left"
          },
          "hovermode": "closest",
          "mapbox": {
           "style": "light"
          },
          "paper_bgcolor": "white",
          "plot_bgcolor": "#E5ECF6",
          "polar": {
           "angularaxis": {
            "gridcolor": "white",
            "linecolor": "white",
            "ticks": ""
           },
           "bgcolor": "#E5ECF6",
           "radialaxis": {
            "gridcolor": "white",
            "linecolor": "white",
            "ticks": ""
           }
          },
          "scene": {
           "xaxis": {
            "backgroundcolor": "#E5ECF6",
            "gridcolor": "white",
            "gridwidth": 2,
            "linecolor": "white",
            "showbackground": true,
            "ticks": "",
            "zerolinecolor": "white"
           },
           "yaxis": {
            "backgroundcolor": "#E5ECF6",
            "gridcolor": "white",
            "gridwidth": 2,
            "linecolor": "white",
            "showbackground": true,
            "ticks": "",
            "zerolinecolor": "white"
           },
           "zaxis": {
            "backgroundcolor": "#E5ECF6",
            "gridcolor": "white",
            "gridwidth": 2,
            "linecolor": "white",
            "showbackground": true,
            "ticks": "",
            "zerolinecolor": "white"
           }
          },
          "shapedefaults": {
           "line": {
            "color": "#2a3f5f"
           }
          },
          "ternary": {
           "aaxis": {
            "gridcolor": "white",
            "linecolor": "white",
            "ticks": ""
           },
           "baxis": {
            "gridcolor": "white",
            "linecolor": "white",
            "ticks": ""
           },
           "bgcolor": "#E5ECF6",
           "caxis": {
            "gridcolor": "white",
            "linecolor": "white",
            "ticks": ""
           }
          },
          "title": {
           "x": 0.05
          },
          "xaxis": {
           "automargin": true,
           "gridcolor": "white",
           "linecolor": "white",
           "ticks": "",
           "title": {
            "standoff": 15
           },
           "zerolinecolor": "white",
           "zerolinewidth": 2
          },
          "yaxis": {
           "automargin": true,
           "gridcolor": "white",
           "linecolor": "white",
           "ticks": "",
           "title": {
            "standoff": 15
           },
           "zerolinecolor": "white",
           "zerolinewidth": 2
          }
         }
        },
        "title": {
         "text": "Maize Yield, Household Head Education and Access Agri-Climatic Information "
        },
        "width": 700,
        "xaxis": {
         "anchor": "y",
         "categoryarray": [
          "Primary",
          "Secondary",
          "Undergraduate degree",
          "Diploma",
          "Certificate",
          "Postgraduate degree"
         ],
         "categoryorder": "array",
         "domain": [
          0,
          1
         ],
         "linecolor": "black",
         "mirror": true,
         "showline": true,
         "title": {
          "text": "Household Head Education level"
         }
        },
        "yaxis": {
         "anchor": "x",
         "domain": [
          0,
          1
         ],
         "linecolor": "black",
         "mirror": true,
         "showline": true,
         "title": {
          "text": "Maize Yield (Ton/Acre)"
         }
        }
       }
      }
     },
     "metadata": {},
     "output_type": "display_data"
    }
   ],
   "source": [
    "\n",
    "# education order\n",
    "education_order = [\n",
    "    'Primary',\n",
    "    'Secondary',\n",
    "    'Undergraduate degree',\n",
    "    'Diploma',\n",
    "    'Certificate',\n",
    "    'Postgraduate degree'\n",
    "]\n",
    "\n",
    "# Convert the column to categorical with the correct order\n",
    "merged['Household Head Education'] = pd.Categorical(\n",
    "    merged['Household Head Education'],\n",
    "    categories=education_order,\n",
    "    ordered=True\n",
    ")\n",
    "\n",
    "# Custom color mapping\n",
    "color_map = {\n",
    "    'Yes': 'lightblue',\n",
    "    'No': 'orange'\n",
    "}\n",
    "\n",
    "# Boxplot: aligned points, ordered by education\n",
    "fig = px.box(\n",
    "    merged,\n",
    "    x='Household Head Education',\n",
    "    y='Maize Yield (Ton/Acre)',\n",
    "    color='Climate Info Received Standardized',\n",
    "    color_discrete_map=color_map,\n",
    "    category_orders={'Household Head Education': education_order},\n",
    "    hover_data=['Household ID', 'Total Land Acres', 'Cultivated Land Acres']\n",
    ")\n",
    "\n",
    "fig.update_layout(\n",
    "    plot_bgcolor='white',\n",
    "    title='Maize Yield, Household Head Education and Access Agri-Climatic Information ',\n",
    "    xaxis_title='Household Head Education level',\n",
    "    yaxis_title='Maize Yield (Ton/Acre)',\n",
    "    legend_title='Climate Info Received',\n",
    "    width=700,\n",
    "    height=400\n",
    ")\n",
    "# Add black lines to axes\n",
    "fig.update_xaxes(showline=True, linecolor='black', mirror=True)\n",
    "fig.update_yaxes(showline=True, linecolor='black', mirror=True)\n",
    "\n",
    "fig.show()\n"
   ]
  },
  {
   "cell_type": "markdown",
   "id": "61def438",
   "metadata": {},
   "source": [
    "### Insights from the survey data\n",
    "\n",
    "- **Agricultural practices and productivity:** There is a wide variability in **cultivated land acres** and **maize yield**. The scatter plots show that there is no clear positive correlation between **cultivated land acres** and **maize yield**, indicating that simply having more land doesn't guarantee a higher yield. This suggests that **land management practices** are more important than the size of the land itself. Business cases could be built around providing farmers with training on efficient farming techniques, such as crop rotation, soil management, or improved irrigation systems.\n",
    "\n",
    "- **Role of climate information and agri-advisories:** Households that have access to **advisories** information** generally seem to have a more consistent and potentially higher maize yield, as indicated by the scatter plots. While not suggesting a causal link, the data shows that providing farmers with timely and accurate climate data could lead to more informed decisions regarding planting, irrigation, and harvesting, thereby improving crop yields. Policy recommendations should include investing in accessible weather forecasting services and developing easy-to-use platforms to disseminate climate information and agricultural advice to farmers.\n",
    "\n",
    "- **Organic fertilizer usage:** The graph showing **Maize Yield vs Organic Fertilizer** suggests that while many households use organic fertilizer, there isn't a strong positive correlation between the amount used and the maize yield. This may indicate a lack of understanding regarding the correct application or type of organic fertilizer. Advisories could focus on educating farmers about proper fertilizer application rates and methods to maximize their effectiveness.\n",
    "\n",
    "- **Education and its impact on livelihoods:** The most common education level among households is **Secondary**, followed by **Primary** and **Undergraduate degrees**. There is a noticeable gender disparity, with **males being significantly more educated** than females across all levels, particularly at the Secondary and Diploma levels. These results suggests the need for targeted gender-sensitive advisory services, to ensure equitable access to and benefits from information.\n",
    "\n",
    "- **Impact of advisory services on maize yield:** The last boxplot figure indicates that households with access to advisory tend to have higher and less variable maize yields compared to those without. At the same time, the yield don't seem to be directly related to the education level of the household head. This is not suprising, as yield outcomes are influenced by many other factors, as shown in previously presented results. \n",
    "\n",
    "\n",
    "This notebook marks the end of the project. \n",
    "For more such informative notebooks, contact me. 🙂 "
   ]
  }
 ],
 "metadata": {
  "kernelspec": {
   "display_name": "damage",
   "language": "python",
   "name": "python3"
  },
  "language_info": {
   "codemirror_mode": {
    "name": "ipython",
    "version": 3
   },
   "file_extension": ".py",
   "mimetype": "text/x-python",
   "name": "python",
   "nbconvert_exporter": "python",
   "pygments_lexer": "ipython3",
   "version": "3.10.18"
  }
 },
 "nbformat": 4,
 "nbformat_minor": 5
}
